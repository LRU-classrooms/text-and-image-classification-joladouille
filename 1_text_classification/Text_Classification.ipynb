{
 "cells": [
  {
   "cell_type": "markdown",
   "metadata": {},
   "source": [
    "# Classification de textes\n",
    "                                            Emanuela Boros\n",
    "                                            Université de \n",
    "                                            La Rochelle\n",
    "Clement Boesmier ECI1-1"
   ]
  },
  {
   "cell_type": "markdown",
   "metadata": {},
   "source": [
    "# 1. Introduction\n",
    "\n",
    "La classification des objets consiste à attribuer une classe à un objet. Ce objet peut être de type texte, image, audio ou vidéo. Pour savoir comment classifier un objet, il est important de connaître les caracteristiques qui definissent une classe. Par exemple, si on considere les caracteristiques : quantités de roues, selle, guidon, et frein. Un vélo ordinaire est composé de deux roues, une selle et un guidon. Une voiture a 4 roues, des freins mais pas de selle ni cadre ni guidon. Une moto est aussi composée de deux roues, une selle, des friens et un guidon. Avec ces caracteristiques, la moto et le vélo ont la même répresentation.\n",
    "\n",
    "Nous pourrions compliquer encore plus cette tâche et essayer de classifier les chihuahuas ou muffins suivants. Pour faire cela, quelles sont les caracteristiques pertinentes à analyser ?\n",
    "\n",
    "<figure>\n",
    "    <center>\n",
    "    <img src=\"images/classification.jpeg\" width=\"400\" height=\"600\">\n",
    "    <figcaption>Source: <a href=\"https://www.freecodecamp.org/news/chihuahua-or-muffin-my-search-for-the-best-computer-vision-api-cbda4d6b425d/\">Link</a></figcaption>\n",
    "    </center>\n",
    "</figure>\n",
    "\n",
    "Vous trouvez ça difficile ? Vous avez raison.\n",
    "\n",
    "La quantité et la pertinence des caracteristiques peuvent aider à classifier des objets. Plus les caracteristiques sont indépendantes et différentes, plus on aura d'informations complementaires sur l'objet analysé.\n",
    "\n",
    "En suivant cette méthode, nous analyserons dans ce cours la classification de textes. Il est très important de faire attention aux caracteristiques pour chaque objet (dans ce cas : les mots et leurs caractéristiques). Notre objectif est d'avoir des caracteristiques pertinentes pour mieux définir un objet et pouvoir l'attribuer à une catégorie correctement.\n",
    "\n",
    "\n",
    "<figure>\n",
    "    <center>\n",
    "    <img src=\"images/text_processing_flow.png\" width=\"700\" height=\"100\">\n",
    "    <figcaption>Source: <a href=\"https://mlwhiz.com/blog/2019/01/17/deeplearning_nlp_preprocess/\">Link</a></figcaption>\n",
    "    </center>\n",
    "</figure>\n",
    "\n",
    "\n",
    "Dans ce cours, nous explorerons un ensemble de données, une analyse de texte et plusieurs approches basées sur l'apprentissage automatique et profond, de la manière suivante:\n",
    "\n",
    "- **Récupération** du corpus de textes (*.csv, *.txt, *.json, etc.)\n",
    "- **Prétraitement** des données textuelles (text pre-processing) : tokenisation etc\n",
    "- **Exploration** du corpus (*EDA*, exploratory data analysis) : analyse des fréquences\n",
    "- **Representation** des mots (bag of words, *sac de mots*, TF-IDF, plongements de mots, *word embeddings*)\n",
    "- **Apprentissage automatique** (machine learning) et **apprentissage profond** (deep learning)\n",
    "- **Analyse d'erreurs** (evaluation, etc.)"
   ]
  },
  {
   "cell_type": "markdown",
   "metadata": {},
   "source": [
    "# 2. Récupération, Prétraitement et Exploration du corpus de textes\n"
   ]
  },
  {
   "cell_type": "markdown",
   "metadata": {},
   "source": [
    "### 2. 1. Contexte\n",
    "\n",
    "Le gouvernement américain a attaqué en justice cinq grands groupes américains du tabac pour avoir amassé d'importants bénéfices en mentant sur les dangers de la cigarette. Le cigarettiers  se sont entendus dès 1953, pour \"mener ensemble une vaste campagne de relations publiques afin de contrer les preuves de plus en plus manifestes d'un lien entre la consommation de tabac et des maladies graves\". \n",
    "\n",
    "Dans ce procès 6,910,192 de documents ont été collectés et numérisés. Afin de faciliter l'exploitation de ces documents par les avocats, vous êtes en charge de mettre en place une classification automatique des types de documents: **Advertisement, Email, Form, Letter, Memo, News, Note, Report, Resume, Scientific**.\n",
    "\n",
    "\n",
    "<table>\n",
    "  <tr>\n",
    "    <td>Letter</td>\n",
    "     <td>News</td>\n",
    "  </tr>\n",
    "  <tr>\n",
    "    <td><img src=\"images/50661869-1869.jpg\" width=270 height=480></td>\n",
    "    <td><img src=\"images/10031617.jpg\" width=270 height=480></td>\n",
    "  </tr>\n",
    " </table>\n",
    "\n",
    "\n",
    "Un échantillon aléatoire des documents a été collecté et des opérateurs ont classé les documents dans des répertoires correspondant aux classes de documents : lettres, rapports, notes, email, etc. Vous avez à votre disposition : \n",
    "\n",
    "- le texte contenu dans les documents obtenu par OCR (en anglais : optical character recognition; signifie reconnaissance optique de caractères ou reconnaissance de texte, une technologie qui permet de convertir différents types de documents tels que les documents papiers scannés en fichiers modifiables - texte); <ins>**path**</ins>\n",
    "- les classes des documents définies par des opérateurs; <ins>**label**</ins>\n",
    "\n",
    "Aprés téléchargement et extraction du fichier compressé, nous pourrons charger et regarder le structure de ces commentaires avec la bibliothèque pandas (plus d'info [```pandas```](https://pandas.pydata.org/docs/user_guide/index.html)).\n",
    "\n"
   ]
  },
  {
   "cell_type": "code",
   "execution_count": 1,
   "metadata": {},
   "outputs": [],
   "source": [
    "import pandas as pd # https://pandas.pydata.org/docs/\n",
    "\n",
    "data = pd.read_csv('data/Tobacco3482-text/tobacco_texts.csv')#.sample(frac=.5) # lire le fichier .csv"
   ]
  },
  {
   "cell_type": "code",
   "execution_count": 2,
   "metadata": {},
   "outputs": [
    {
     "data": {
      "text/plain": [
       "1392"
      ]
     },
     "execution_count": 2,
     "metadata": {},
     "output_type": "execute_result"
    }
   ],
   "source": [
    "data.size"
   ]
  },
  {
   "cell_type": "code",
   "execution_count": 3,
   "metadata": {},
   "outputs": [
    {
     "data": {
      "text/html": [
       "<div>\n",
       "<style scoped>\n",
       "    .dataframe tbody tr th:only-of-type {\n",
       "        vertical-align: middle;\n",
       "    }\n",
       "\n",
       "    .dataframe tbody tr th {\n",
       "        vertical-align: top;\n",
       "    }\n",
       "\n",
       "    .dataframe thead th {\n",
       "        text-align: right;\n",
       "    }\n",
       "</style>\n",
       "<table border=\"1\" class=\"dataframe\">\n",
       "  <thead>\n",
       "    <tr style=\"text-align: right;\">\n",
       "      <th></th>\n",
       "      <th>path</th>\n",
       "      <th>label</th>\n",
       "    </tr>\n",
       "  </thead>\n",
       "  <tbody>\n",
       "    <tr>\n",
       "      <th>0</th>\n",
       "      <td>data/Tobacco3482-text/Scientific/2051025161.txt</td>\n",
       "      <td>Scientific</td>\n",
       "    </tr>\n",
       "    <tr>\n",
       "      <th>1</th>\n",
       "      <td>data/Tobacco3482-text/Note/87705667.txt</td>\n",
       "      <td>Note</td>\n",
       "    </tr>\n",
       "    <tr>\n",
       "      <th>2</th>\n",
       "      <td>data/Tobacco3482-text/Scientific/50590463-0469...</td>\n",
       "      <td>Scientific</td>\n",
       "    </tr>\n",
       "    <tr>\n",
       "      <th>3</th>\n",
       "      <td>data/Tobacco3482-text/Resume/50617225-7226.txt</td>\n",
       "      <td>Resume</td>\n",
       "    </tr>\n",
       "    <tr>\n",
       "      <th>4</th>\n",
       "      <td>data/Tobacco3482-text/News/2078115137.txt</td>\n",
       "      <td>News</td>\n",
       "    </tr>\n",
       "  </tbody>\n",
       "</table>\n",
       "</div>"
      ],
      "text/plain": [
       "                                                path       label\n",
       "0    data/Tobacco3482-text/Scientific/2051025161.txt  Scientific\n",
       "1            data/Tobacco3482-text/Note/87705667.txt        Note\n",
       "2  data/Tobacco3482-text/Scientific/50590463-0469...  Scientific\n",
       "3     data/Tobacco3482-text/Resume/50617225-7226.txt      Resume\n",
       "4          data/Tobacco3482-text/News/2078115137.txt        News"
      ]
     },
     "execution_count": 3,
     "metadata": {},
     "output_type": "execute_result"
    }
   ],
   "source": [
    "data.head() # afficher les 5 premières lignes"
   ]
  },
  {
   "cell_type": "code",
   "execution_count": 4,
   "metadata": {},
   "outputs": [
    {
     "data": {
      "text/html": [
       "<div>\n",
       "<style scoped>\n",
       "    .dataframe tbody tr th:only-of-type {\n",
       "        vertical-align: middle;\n",
       "    }\n",
       "\n",
       "    .dataframe tbody tr th {\n",
       "        vertical-align: top;\n",
       "    }\n",
       "\n",
       "    .dataframe thead th {\n",
       "        text-align: right;\n",
       "    }\n",
       "</style>\n",
       "<table border=\"1\" class=\"dataframe\">\n",
       "  <thead>\n",
       "    <tr style=\"text-align: right;\">\n",
       "      <th></th>\n",
       "      <th>path</th>\n",
       "      <th>label</th>\n",
       "    </tr>\n",
       "  </thead>\n",
       "  <tbody>\n",
       "    <tr>\n",
       "      <th>691</th>\n",
       "      <td>data/Tobacco3482-text/Note/12882100.txt</td>\n",
       "      <td>Note</td>\n",
       "    </tr>\n",
       "    <tr>\n",
       "      <th>692</th>\n",
       "      <td>data/Tobacco3482-text/Form/2505233645_3646.txt</td>\n",
       "      <td>Form</td>\n",
       "    </tr>\n",
       "    <tr>\n",
       "      <th>693</th>\n",
       "      <td>data/Tobacco3482-text/Memo/2048153405_20481534...</td>\n",
       "      <td>Memo</td>\n",
       "    </tr>\n",
       "    <tr>\n",
       "      <th>694</th>\n",
       "      <td>data/Tobacco3482-text/Scientific/50492374-2377...</td>\n",
       "      <td>Scientific</td>\n",
       "    </tr>\n",
       "    <tr>\n",
       "      <th>695</th>\n",
       "      <td>data/Tobacco3482-text/Form/2505106228.txt</td>\n",
       "      <td>Form</td>\n",
       "    </tr>\n",
       "  </tbody>\n",
       "</table>\n",
       "</div>"
      ],
      "text/plain": [
       "                                                  path       label\n",
       "691            data/Tobacco3482-text/Note/12882100.txt        Note\n",
       "692     data/Tobacco3482-text/Form/2505233645_3646.txt        Form\n",
       "693  data/Tobacco3482-text/Memo/2048153405_20481534...        Memo\n",
       "694  data/Tobacco3482-text/Scientific/50492374-2377...  Scientific\n",
       "695          data/Tobacco3482-text/Form/2505106228.txt        Form"
      ]
     },
     "execution_count": 4,
     "metadata": {},
     "output_type": "execute_result"
    }
   ],
   "source": [
    "data.tail() # afficher les 5 dernières lignes"
   ]
  },
  {
   "cell_type": "markdown",
   "metadata": {},
   "source": [
    "Avec Pandas, nous pouvons commencer avec quelques statistiques simples. Les résultats suivants seront dans l'ordre décroissant de sorte que le premier élément soit l'élément le plus fréquent."
   ]
  },
  {
   "cell_type": "code",
   "execution_count": 5,
   "metadata": {},
   "outputs": [
    {
     "data": {
      "text/plain": [
       "Memo             127\n",
       "Email            118\n",
       "Letter           105\n",
       "Form              98\n",
       "Scientific        60\n",
       "Report            49\n",
       "News              42\n",
       "Advertisement     41\n",
       "Note              36\n",
       "Resume            20\n",
       "Name: label, dtype: int64"
      ]
     },
     "execution_count": 5,
     "metadata": {},
     "output_type": "execute_result"
    }
   ],
   "source": [
    "data.label.value_counts()"
   ]
  },
  {
   "cell_type": "markdown",
   "metadata": {},
   "source": [
    "Avec Pandas, nous pouvons également visualiser ces statistiques."
   ]
  },
  {
   "cell_type": "code",
   "execution_count": 6,
   "metadata": {},
   "outputs": [
    {
     "data": {
      "image/png": "[encoded data removed]",
      "text/plain": [
       "<Figure size 432x288 with 1 Axes>"
      ]
     },
     "metadata": {
      "needs_background": "light"
     },
     "output_type": "display_data"
    }
   ],
   "source": [
    "_ = data.label.value_counts().plot(kind='bar')"
   ]
  },
  {
   "cell_type": "markdown",
   "metadata": {},
   "source": [
    "Nous avons vu que le fichier .csv contenait les chemins et les étiquettes des documents. Maintenant, nous devons lire les fichiers à partir des chemins spécifiés pour obtenir les données textuelles.\n",
    "\n",
    "**<span style=\"color:red\">To do</span>**:\n",
    "\n",
    "> * Pour chaque chemin dans le dataframe, lisez le fichier associé et ajoutez les textes dans un vecteur. \n"
   ]
  },
  {
   "cell_type": "code",
   "execution_count": 7,
   "metadata": {},
   "outputs": [],
   "source": [
    "import os\n",
    "\n",
    "texts = []\n",
    "for idx, line in data.iterrows(): # itérer dans un dataframe Pandas\n",
    "    # YOUR CODE HERE\n",
    "    f = open(line.path,\"r\")\n",
    "    texts.append(f.read())\n",
    "    f.close()\n",
    "    # END CODE\n",
    "data['text'] = texts # créer une nouvelle colonne dans le dataframe Pandas avec les textes associés"
   ]
  },
  {
   "cell_type": "code",
   "execution_count": 8,
   "metadata": {},
   "outputs": [
    {
     "data": {
      "text/html": [
       "<div>\n",
       "<style scoped>\n",
       "    .dataframe tbody tr th:only-of-type {\n",
       "        vertical-align: middle;\n",
       "    }\n",
       "\n",
       "    .dataframe tbody tr th {\n",
       "        vertical-align: top;\n",
       "    }\n",
       "\n",
       "    .dataframe thead th {\n",
       "        text-align: right;\n",
       "    }\n",
       "</style>\n",
       "<table border=\"1\" class=\"dataframe\">\n",
       "  <thead>\n",
       "    <tr style=\"text-align: right;\">\n",
       "      <th></th>\n",
       "      <th>path</th>\n",
       "      <th>label</th>\n",
       "      <th>text</th>\n",
       "    </tr>\n",
       "  </thead>\n",
       "  <tbody>\n",
       "    <tr>\n",
       "      <th>0</th>\n",
       "      <td>data/Tobacco3482-text/Scientific/2051025161.txt</td>\n",
       "      <td>Scientific</td>\n",
       "      <td>MONTHLY SUMMARY\\n\\n25 JANUARY 1986-\\n24 FEBRUA...</td>\n",
       "    </tr>\n",
       "    <tr>\n",
       "      <th>1</th>\n",
       "      <td>data/Tobacco3482-text/Note/87705667.txt</td>\n",
       "      <td>Note</td>\n",
       "      <td>2/14/90\\n\\n   \\n\\nDATE:\\n\\n \\n\\n  \\n \\n\\nSUBJE...</td>\n",
       "    </tr>\n",
       "    <tr>\n",
       "      <th>2</th>\n",
       "      <td>data/Tobacco3482-text/Scientific/50590463-0469...</td>\n",
       "      <td>Scientific</td>\n",
       "      <td>Cell, Vol. 59, 1107-1113, December 22, 1989, C...</td>\n",
       "    </tr>\n",
       "    <tr>\n",
       "      <th>3</th>\n",
       "      <td>data/Tobacco3482-text/Resume/50617225-7226.txt</td>\n",
       "      <td>Resume</td>\n",
       "      <td>BIOGRAPHICAS SKETCH\\n\\nGive the following info...</td>\n",
       "    </tr>\n",
       "    <tr>\n",
       "      <th>4</th>\n",
       "      <td>data/Tobacco3482-text/News/2078115137.txt</td>\n",
       "      <td>News</td>\n",
       "      <td>Tae NEWS &amp; OBSERVER\\n\\nFaday, Ocroagr 15, 1999...</td>\n",
       "    </tr>\n",
       "    <tr>\n",
       "      <th>5</th>\n",
       "      <td>data/Tobacco3482-text/Memo/96008379.txt</td>\n",
       "      <td>Memo</td>\n",
       "      <td>TOBACCO COMPANY\\n\\n24300 CATHERINE INDUSTRIAL ...</td>\n",
       "    </tr>\n",
       "    <tr>\n",
       "      <th>6</th>\n",
       "      <td>data/Tobacco3482-text/Report/10176813.txt</td>\n",
       "      <td>Report</td>\n",
       "      <td>PB ES FOOT\\n\\nGRANT APPLICATION No. 814A\\n\\nSu...</td>\n",
       "    </tr>\n",
       "    <tr>\n",
       "      <th>7</th>\n",
       "      <td>data/Tobacco3482-text/Memo/94011032_94011033.txt</td>\n",
       "      <td>Memo</td>\n",
       "      <td>THE TOBACCO INSTITUTE\\n\\n1875 | STREET. NORTHW...</td>\n",
       "    </tr>\n",
       "    <tr>\n",
       "      <th>8</th>\n",
       "      <td>data/Tobacco3482-text/Letter/502406921_5024069...</td>\n",
       "      <td>Letter</td>\n",
       "      <td>Loe ey PYF at nn peg py pee ry 84\\nwipe rPVOUU...</td>\n",
       "    </tr>\n",
       "    <tr>\n",
       "      <th>9</th>\n",
       "      <td>data/Tobacco3482-text/Memo/2046000414_20460004...</td>\n",
       "      <td>Memo</td>\n",
       "      <td>- PHILIP MORRIS COMPANIES INC, _ INTER-OFFICE\\...</td>\n",
       "    </tr>\n",
       "  </tbody>\n",
       "</table>\n",
       "</div>"
      ],
      "text/plain": [
       "                                                path       label  \\\n",
       "0    data/Tobacco3482-text/Scientific/2051025161.txt  Scientific   \n",
       "1            data/Tobacco3482-text/Note/87705667.txt        Note   \n",
       "2  data/Tobacco3482-text/Scientific/50590463-0469...  Scientific   \n",
       "3     data/Tobacco3482-text/Resume/50617225-7226.txt      Resume   \n",
       "4          data/Tobacco3482-text/News/2078115137.txt        News   \n",
       "5            data/Tobacco3482-text/Memo/96008379.txt        Memo   \n",
       "6          data/Tobacco3482-text/Report/10176813.txt      Report   \n",
       "7   data/Tobacco3482-text/Memo/94011032_94011033.txt        Memo   \n",
       "8  data/Tobacco3482-text/Letter/502406921_5024069...      Letter   \n",
       "9  data/Tobacco3482-text/Memo/2046000414_20460004...        Memo   \n",
       "\n",
       "                                                text  \n",
       "0  MONTHLY SUMMARY\\n\\n25 JANUARY 1986-\\n24 FEBRUA...  \n",
       "1  2/14/90\\n\\n   \\n\\nDATE:\\n\\n \\n\\n  \\n \\n\\nSUBJE...  \n",
       "2  Cell, Vol. 59, 1107-1113, December 22, 1989, C...  \n",
       "3  BIOGRAPHICAS SKETCH\\n\\nGive the following info...  \n",
       "4  Tae NEWS & OBSERVER\\n\\nFaday, Ocroagr 15, 1999...  \n",
       "5  TOBACCO COMPANY\\n\\n24300 CATHERINE INDUSTRIAL ...  \n",
       "6  PB ES FOOT\\n\\nGRANT APPLICATION No. 814A\\n\\nSu...  \n",
       "7  THE TOBACCO INSTITUTE\\n\\n1875 | STREET. NORTHW...  \n",
       "8  Loe ey PYF at nn peg py pee ry 84\\nwipe rPVOUU...  \n",
       "9  - PHILIP MORRIS COMPANIES INC, _ INTER-OFFICE\\...  "
      ]
     },
     "execution_count": 8,
     "metadata": {},
     "output_type": "execute_result"
    }
   ],
   "source": [
    "data.head(10) # visualisez les donnees"
   ]
  },
  {
   "cell_type": "markdown",
   "metadata": {},
   "source": [
    "Exemple tiré de l'ensemble de données Tobacco:"
   ]
  },
  {
   "cell_type": "code",
   "execution_count": 9,
   "metadata": {},
   "outputs": [
    {
     "name": "stdout",
     "output_type": "stream",
     "text": [
      "MONTHLY SUMMARY\n",
      "\n",
      "25 JANUARY 1986-\n",
      "24 FEBRUARY 1986\n",
      "\n",
      "FOR: David Douglas\n",
      "1. Non-burning smoking article:\n",
      "\n",
      "Additional work on this subject was done this month by examining the\n",
      "filtration effect of a cellulose acetate filter versus no filter. The\n",
      "sample examined was an IFF tobacco neutral fraction flavor. Fifty\n",
      "microliters of the sample were applied to a piece of filter paper inside a\n",
      "plastic tube like those used by Flavor Development for the non-burning\n",
      "smoking article. Thirty-five ml puffs were withdrawn alternately at one end\n",
      "containing a CA filter and at the other end, which was open. The results of\n",
      "chromatograms produced by samples taken in these ways showed that the later,\n",
      "more polar, less volatile components are reduced disproportionately when\n",
      "puffed through the CA filter compared to a sample taken with no filter.\n",
      "\n",
      "This observation could have implications for the use of tobacco-identical\n",
      "flavors in both burning and non-burning smoking products, since this flavor\n",
      "is apparently natural and therefore representative of tobacco-identical\n",
      "flavors.\n",
      "\n",
      "No additional work is anticipated in this area unless it is desired\n",
      "by supervisors of the Chemical Research Division, as an aid to Divisional\n",
      "goals or major R&D programs. However, a memo summarizing the observations\n",
      "made to date is being written.\n",
      "\n",
      "2. Setup of an electron capture detector:\n",
      "\n",
      "Some additional work with the ECD (discussed last month) was done,\n",
      "mostly to document the work on the PE data system. However in the course of\n",
      "this work the lower limits of detectability of Lindane and Aldrin were\n",
      "explored and more difinitively determined. It was found that approximately\n",
      "\n",
      "300-400 femtograms (10-13 grams) of either pesticide could be detected at a\n",
      "2:1 signal to noise ratio, but about half this amount could not. A minimum\n",
      "\n",
      "of 15 picograms of each of the pesticides were detected in 3 microliters of\n",
      "a bright tobacco extract. The accuracy of the concentration of the\n",
      "pesticide standard being used was compared with a completely separate\n",
      "standard of Lindane, and the amounts from each source were found to be\n",
      "equal within normal experimental variability.\n",
      "\n",
      "A memo concerning this work is being written, and no further work\n",
      "will be done in this area unless a need arises.\n",
      "\n",
      "FITSZOTSOe\n"
     ]
    }
   ],
   "source": [
    "print(data['text'][0])"
   ]
  },
  {
   "cell_type": "code",
   "execution_count": 10,
   "metadata": {},
   "outputs": [
    {
     "name": "stdout",
     "output_type": "stream",
     "text": [
      "Classe : Scientific\n"
     ]
    }
   ],
   "source": [
    "print('Classe :', data['label'][0])"
   ]
  },
  {
   "cell_type": "markdown",
   "metadata": {},
   "source": [
    "Étant donné que cet ensemble de données a été numérisé, des problèmes peuvent apparaître avec les données. Il n'y a toujours pas d'outils OCR qui fonctionnent au niveau humain dans la plupart des applications. L'existence aujourd'hui de plusieurs outils de ce type a conduit peu à peu à définir des critères de choix pour sélectionner l'OCR le plus efficace et surtout le mieux adapté à son application. Longtemps, le critère d'efficacité était lié à un taux de reconnaissance élevé, pensant qu'une technologie efficace est une technologie sans défaut. En effet, il faut admettre quele taux de 100% reste un objectif à atteindre.\n",
    "\n",
    "Les erreurs incluent une mauvaise lecture des lettres, le saut de lettres illisibles ou la combinaison de texte de colonnes adjacentes ou de légendes d'image. Bien que de nombreux facteurs affectent les performances des outils OCR, le nombre d'erreurs dépend de la qualité et de la forme du texte, y compris du font utilisé.\n",
    "\n",
    "\n",
    "<figure>\n",
    "    <center>\n",
    "    <img src=\"images/1004859787.jpg\" width=\"300\" height=\"100\">\n",
    "    <figcaption>News</figcaption>\n",
    "    </center>\n",
    "</figure>\n"
   ]
  },
  {
   "cell_type": "markdown",
   "metadata": {},
   "source": [
    "Un exemple d'un tel document, avec de nombreuses erreurs de reconnaissance de caractères et de mots :"
   ]
  },
  {
   "cell_type": "code",
   "execution_count": 11,
   "metadata": {},
   "outputs": [
    {
     "name": "stdout",
     "output_type": "stream",
     "text": [
      "”\n",
      "\n",
      " \n",
      "\n",
      " \n",
      "   \n",
      "\n",
      "B Tannen aa\n",
      "CRSBURG CAG Stee cS\n",
      "\n",
      "oe oe) eee\n",
      "\n",
      " \n",
      "  \n",
      "  \n",
      "    \n",
      "  \n",
      "  \n",
      "   \n",
      "\n",
      " \n",
      "\n",
      "    \n",
      " \n",
      "\n",
      " \n",
      "\n",
      "ae\n",
      "\n",
      "‘ined ae\n",
      "\n",
      "cee «eee ‘and a ohne\n",
      "sia Pos ecm se E et pur ita\n",
      "\n",
      "(par, tment. o Spur’. peusENrarceye\n",
      "“pla ae ake\n",
      "\n",
      "  \n",
      " \n",
      "   \n",
      "    \n",
      " \n",
      "  \n",
      " \n",
      " \n",
      " \n",
      "\n",
      "   \n",
      "  \n",
      "\n",
      "   \n",
      "\n",
      " \n",
      "\n",
      " \n",
      "\n",
      "pe Gores. PO Fe et ree ca\n",
      "Eethtut fons. “for “research ieee\n",
      "plems.. éommion\n",
      "\n",
      "university: and in\n",
      "\n",
      " \n",
      "  \n",
      "\n",
      "i ee THE ‘PROGRAM I HE ‘outlined {\n",
      "\n",
      "nya\n",
      "ea A os\n",
      "\n",
      " \n",
      "\n",
      "      \n",
      "  \n",
      "\n",
      "         \n",
      "   \n",
      "  \n",
      "   \n",
      "  \n",
      " \n",
      " \n",
      " \n",
      " \n",
      "    \n",
      "\n",
      "   \n",
      "  \n",
      "\n",
      "   \n",
      "    \n",
      "\n",
      "   \n",
      "\n",
      "ithe “concept” of the’ land-gre as VPI wh\n",
      "! eir eatly days’ were geared. p mar 5 a pare\n",
      "te Hahn, “a ‘physicist, Thursday ¢ *\n",
      "\n",
      "“the ‘teins of the educational “iris is\n",
      "; which. he has “headed,‘since ast. ‘July. ii\n",
      "‘the “youfigest NPI president ever a:\n",
      "\n",
      "Saent in ‘the. nation’s ‘land- nt; 3\n",
      "is Engineeri g ‘students | now2ecinprise “B nae\n",
      "“and students” in the ‘non-agricultural, “an\n"
     ]
    }
   ],
   "source": [
    "print(data['text'][57])"
   ]
  },
  {
   "cell_type": "code",
   "execution_count": 12,
   "metadata": {},
   "outputs": [
    {
     "name": "stdout",
     "output_type": "stream",
     "text": [
      "Classe : News\n"
     ]
    }
   ],
   "source": [
    "print('Classe :', data['label'][57])"
   ]
  },
  {
   "cell_type": "markdown",
   "metadata": {},
   "source": [
    "La figure correspond au texte et il est visible que sa qualité est faible."
   ]
  },
  {
   "cell_type": "markdown",
   "metadata": {},
   "source": [
    "### 2.2 Pré-traitement de texte \n",
    "\n",
    "Dans tout processus d'analyse de texte, la première et la plus importante des étapes est de **constituer un corpus**, un ensemble de documents, et de **le nettoyer** afin de l'exploiter. \n",
    "\n",
    "Les étapes de prétraitement (*preprocessing*) sont cruciales car elles permettent de **nettoyer le texte** de tous ses éléments qui ne sont **pas porteurs de sens**, et le préparent pour l’analyse.\n",
    "Les différentes étapes sont :\n",
    "1. La ***tokenisation*** est un moyen de séparer un morceau de texte en unités plus petites appelées **tokens**. Les **tokens** sont généralement des **mots**.\n",
    "\n",
    "2. La ***normalisation*** du texte est importante pour les textes bruyants comme par exemple ces données. qui sont des documents numérisés qui, comme nous l'avons vu, contiennent de nombreuses erreurs: les **abréviations**, les **fautes d'orthographe** et l'utilisation de mots hors vocabulaire (oov) sont répandus. Ce procédé implique également la **suppression des mots vides** ou des **mots bruyants** qui peuvent perturber l'analyse (conjugaisons, majuscules, ponctuations, etc.).\n",
    "\n",
    "**Note**: en analyse de données, ces étapes sont généralement les plus fastidieuses, car elle impliquent un long travail de normalisation de données.\n",
    "\n",
    "Nous allons utiliser les bibliothèques de traitement du langage [`nltk`](https://www.nltk.org/), [`spaCy`](https://spacy.io) ainsi que les bibliothèques scientifiques classiques que sont [`pandas`](https://pandas.pydata.org/), [`numpy`](https://numpy.org/). La bibliothèque [`spaCy`](https://spacy.io) nous permet d'obtenir ces informations facilement.\n",
    "\n",
    "PS: l'installation de cette bibliothèque est très simple dans envirement virtuel (ou ici, dans le notebook):\n",
    "\n",
    "```\n",
    "!pip install spacy\n",
    "!python -m spacy download en_core_web_sm```"
   ]
  },
  {
   "cell_type": "code",
   "execution_count": 13,
   "metadata": {},
   "outputs": [
    {
     "name": "stdout",
     "output_type": "stream",
     "text": [
      "Requirement already satisfied: spacy in /opt/conda/lib/python3.7/site-packages (2.1.3)\n",
      "Requirement already satisfied: numpy>=1.15.0 in /opt/conda/lib/python3.7/site-packages (from spacy) (1.20.1)\n",
      "Requirement already satisfied: jsonschema<3.0.0,>=2.6.0 in /opt/conda/lib/python3.7/site-packages (from spacy) (2.6.0)\n",
      "Requirement already satisfied: preshed<2.1.0,>=2.0.1 in /opt/conda/lib/python3.7/site-packages (from spacy) (2.0.1)\n",
      "Requirement already satisfied: murmurhash<1.1.0,>=0.28.0 in /opt/conda/lib/python3.7/site-packages (from spacy) (1.0.5)\n",
      "Requirement already satisfied: wasabi<1.1.0,>=0.2.0 in /opt/conda/lib/python3.7/site-packages (from spacy) (0.8.2)\n",
      "Requirement already satisfied: srsly<1.1.0,>=0.0.5 in /opt/conda/lib/python3.7/site-packages (from spacy) (1.0.5)\n",
      "Requirement already satisfied: plac<1.0.0,>=0.9.6 in /opt/conda/lib/python3.7/site-packages (from spacy) (0.9.6)\n",
      "Requirement already satisfied: cymem<2.1.0,>=2.0.2 in /opt/conda/lib/python3.7/site-packages (from spacy) (2.0.5)\n",
      "Requirement already satisfied: blis<0.3.0,>=0.2.2 in /opt/conda/lib/python3.7/site-packages (from spacy) (0.2.4)\n",
      "Requirement already satisfied: requests<3.0.0,>=2.13.0 in /opt/conda/lib/python3.7/site-packages (from spacy) (2.22.0)\n",
      "Requirement already satisfied: thinc<7.1.0,>=7.0.2 in /opt/conda/lib/python3.7/site-packages (from spacy) (7.0.8)\n",
      "Requirement already satisfied: certifi>=2017.4.17 in /opt/conda/lib/python3.7/site-packages (from requests<3.0.0,>=2.13.0->spacy) (2020.6.20)\n",
      "Requirement already satisfied: urllib3!=1.25.0,!=1.25.1,<1.26,>=1.21.1 in /opt/conda/lib/python3.7/site-packages (from requests<3.0.0,>=2.13.0->spacy) (1.25.7)\n",
      "Requirement already satisfied: idna<2.9,>=2.5 in /opt/conda/lib/python3.7/site-packages (from requests<3.0.0,>=2.13.0->spacy) (2.8)\n",
      "Requirement already satisfied: chardet<3.1.0,>=3.0.2 in /opt/conda/lib/python3.7/site-packages (from requests<3.0.0,>=2.13.0->spacy) (3.0.4)\n",
      "Requirement already satisfied: tqdm<5.0.0,>=4.10.0 in /opt/conda/lib/python3.7/site-packages (from thinc<7.1.0,>=7.0.2->spacy) (4.41.1)\n",
      "Collecting en_core_web_md==2.1.0\n",
      "  Downloading https://github.com/explosion/spacy-models/releases/download/en_core_web_md-2.1.0/en_core_web_md-2.1.0.tar.gz (95.4 MB)\n",
      "\u001b[K     |████████████████████████████████| 95.4 MB 5.8 MB/s eta 0:00:01    |█▌                              | 4.6 MB 132 kB/s eta 0:11:26     |█████▋                          | 16.8 MB 1.4 MB/s eta 0:00:57     |███████████▏                    | 33.2 MB 964 kB/s eta 0:01:05     |███████████████████████████▋    | 82.4 MB 1.0 MB/s eta 0:00:13     |███████████████████████████▉    | 82.9 MB 1.0 MB/s eta 0:00:13\n",
      "\u001b[?25h\u001b[38;5;2m✔ Download and installation successful\u001b[0m\n",
      "You can now load the model via spacy.load('en_core_web_md')\n"
     ]
    }
   ],
   "source": [
    "!pip install spacy\n",
    "!python -m spacy download en_core_web_md"
   ]
  },
  {
   "cell_type": "markdown",
   "metadata": {},
   "source": [
    "### 2.2.1 Suppression des [mots vides](https://fr.wikipedia.org/wiki/Mot_vide) (stopwords)\n",
    "\n",
    "La première manipulation souvent effectuée dans le traitement du texte est la suppression des mots vides, ou *stopwords*. Ce sont les mots très courants dans la langue étudiée (« the », « a », en anglais) qui dans beaucoup des cas **n'apportent pas de valeur informative** pour la compréhension d’un document ou d’un corpus. \n",
    "\n",
    "Par exemple, dans le contexte d'un système de recherche, si votre requête de recherche est «Qu'est-ce que le prétraitement de texte ?», vous voulez que le système de recherche se concentre sur les documents qui parlent de «prétraitement de texte» plutôt que sur les documents qui parlent de «Qu'est-ce que le». Cela peut être fait en empêchant tous les mots de votre liste de mots vides d'être analysés. Les mots vides sont couramment appliqués dans les systèmes de recherche, les applications de classification de texte, la modélisation de sujets, l'extraction de sujets et autres.\n",
    "\n",
    "Par contre, la suppression des mots vides, bien qu'efficace dans les systèmes de recherche et d'extraction de sujets, s'est avérée non critique dans les algorithmes de classification and ils sont assez importants dans la création d'un [**modèle de langage**](https://medium.com/@pierre_guillou/nlp-fastai-gpt-2-16ee145a4a28) dans lequel le sens d'un mot dépend de tous les mots environnants. Cependant, cela aide à réduire le nombre de fonctionnalités prises en compte, ce qui permet de garder vos modèles de taille décente."
   ]
  },
  {
   "cell_type": "code",
   "execution_count": 14,
   "metadata": {},
   "outputs": [
    {
     "data": {
      "text/plain": [
       "(['side',\n",
       "  'noone',\n",
       "  'done',\n",
       "  \"'s\",\n",
       "  'why',\n",
       "  'whether',\n",
       "  'whole',\n",
       "  'an',\n",
       "  'using',\n",
       "  'afterwards'],\n",
       " ['!', '\"', '#', '$', '%', '&', \"'\", '(', ')', '*'])"
      ]
     },
     "execution_count": 14,
     "metadata": {},
     "output_type": "execute_result"
    }
   ],
   "source": [
    "import spacy\n",
    "import string\n",
    "\n",
    "nlp = spacy.load(\"en_core_web_md\") # charge le modèle en anglais\n",
    "\n",
    "spacy_stopwords = list(spacy.lang.en.stop_words.STOP_WORDS) # la liste des mots vides de SpaCy\n",
    "\n",
    "punctuation = list(string.punctuation) # une liste avec ponctuations\n",
    "\n",
    "spacy_stopwords[:10], punctuation[:10]"
   ]
  },
  {
   "cell_type": "code",
   "execution_count": 15,
   "metadata": {},
   "outputs": [
    {
     "name": "stdout",
     "output_type": "stream",
     "text": [
      "['side', 'noone', 'done', \"'s\", 'why', 'whether', 'whole', 'an', 'using', 'afterwards', 'unless', 're', 'yours', \"'m\", 'all', 'as', 'but', 'in', 'next', 'at', 'out', 'thereupon', 'hereupon', 'nor', 'our', 'nine', 'were', 'yourselves', 'it', 'no', 'get', 'namely', 'six', 'former', 'see', 'can', 'just', 'eight', 'yet', 'even', 'perhaps', 'with', 'ever', 'other', 'put', 'than', 'against', 'has', 'above', 'may', 'neither', 'least', 'themselves', 'across', 'being', 'two', 'hereby', 'bottom', 'again', 'anywhere', \"'ve\", 'together', 'else', 'his', 'cannot', 'nothing', 'same', 'beside', 'since', 'only', 'elsewhere', 'herself', 'among', 'too', 'name', 'although', 'that', 'ten', 'are', 'however', 'whenever', 'somewhere', 'would', 'thereby', 'made', 'few', 'first', 'be', 'the', 'more', 'forty', 'seemed', 'its', 'anyhow', 'top', 'do', 'due', 'serious', 'their', 'does', 'either', 'thereafter', 'most', 'seeming', 'herein', 'we', 'fifteen', 'per', 'such', 'those', \"'re\", 'my', 'whence', 'one', 'after', 'alone', 'besides', 'so', 'he', 'into', 'under', 'wherever', 'am', 'move', 'sometimes', 'nowhere', 'doing', 'thru', 'off', 'though', 'behind', 'show', 'whose', 'within', 'these', 'below', 'very', 'did', 'itself', 'fifty', 'sometime', 'seem', 'now', 'go', 'always', 'where', \"n't\", 'without', 'ours', 'of', 'hundred', 'nobody', 'three', 'seems', \"'d\", 'me', 'nevertheless', 'somehow', 'beyond', 'third', 'front', 'mine', 'over', 'both', 'none', 'before', 'there', 'moreover', 'make', 'upon', 'whom', 'every', 'she', 'hence', 'between', 'us', 'almost', 'various', 'eleven', 'whereupon', \"'ll\", 'back', 'everywhere', 'them', 'full', 'each', 'used', 'your', 'until', 'regarding', 'been', 'ca', 'hers', 'towards', 'really', 'often', 'yourself', 'you', 'her', 'was', 'hereafter', 'something', 'had', 'through', 'beforehand', 'never', 'thence', 'except', 'amongst', 'well', 'many', 'up', 'during', 'toward', 'give', 'latter', 'who', 'everything', 'less', 'thus', 'when', 'not', 'a', 'keep', 'this', 'others', 'formerly', 'twenty', 'whereas', 'while', 'and', 'could', 'him', 'or', 'own', 'twelve', 'wherein', 'for', 'by', 'further', 'say', 'please', 'anyway', 'latterly', 'must', 'whatever', 'i', 'then', 'therein', 'five', 'last', 'four', 'on', 'what', 'will', 'another', 'ourselves', 'part', 'amount', 'whoever', 'onto', 'several', 'any', 'becoming', 'myself', 'call', 'if', 'throughout', 'anyone', 'from', 'around', 'whither', 'meanwhile', 'via', 'mostly', 'much', 'everyone', 'should', 'which', 'some', 'here', 'have', 'enough', 'to', 'because', 'rather', 'quite', 'is', 'himself', 'already', 'becomes', 'became', 'how', 'empty', 'become', 'also', 'whereafter', 'anything', 'whereby', 'about', 'along', 'indeed', 'otherwise', 'take', 'once', 'still', 'might', 'sixty', 'therefore', 'someone', 'down', 'they']\n"
     ]
    }
   ],
   "source": [
    "print(spacy_stopwords)"
   ]
  },
  {
   "cell_type": "markdown",
   "metadata": {},
   "source": [
    "Ensuite, nous créons une fonction pour prétraiter tous les documents dans le dataframe Pandas. \n"
   ]
  },
  {
   "cell_type": "code",
   "execution_count": 16,
   "metadata": {},
   "outputs": [],
   "source": [
    "def preprocess(phrase):\n",
    "\n",
    "    phrase = phrase.lower()\n",
    "\n",
    "    tokens = [token.text.replace('\\n', '').strip() for token in nlp(phrase) \n",
    "              if token.text.lower() not in spacy_stopwords + punctuation]\n",
    "    \n",
    "    tokens = [token for token in tokens if len(token) > 0]\n",
    "    \n",
    "    if len(tokens) > 0:\n",
    "        return ' '.join(tokens)\n",
    "    return None\n",
    "\n",
    "data['cleaned_text'] = data['text'].apply(preprocess)"
   ]
  },
  {
   "cell_type": "code",
   "execution_count": 17,
   "metadata": {},
   "outputs": [
    {
     "data": {
      "text/html": [
       "<div>\n",
       "<style scoped>\n",
       "    .dataframe tbody tr th:only-of-type {\n",
       "        vertical-align: middle;\n",
       "    }\n",
       "\n",
       "    .dataframe tbody tr th {\n",
       "        vertical-align: top;\n",
       "    }\n",
       "\n",
       "    .dataframe thead th {\n",
       "        text-align: right;\n",
       "    }\n",
       "</style>\n",
       "<table border=\"1\" class=\"dataframe\">\n",
       "  <thead>\n",
       "    <tr style=\"text-align: right;\">\n",
       "      <th></th>\n",
       "      <th>path</th>\n",
       "      <th>label</th>\n",
       "      <th>text</th>\n",
       "      <th>cleaned_text</th>\n",
       "    </tr>\n",
       "  </thead>\n",
       "  <tbody>\n",
       "    <tr>\n",
       "      <th>0</th>\n",
       "      <td>data/Tobacco3482-text/Scientific/2051025161.txt</td>\n",
       "      <td>Scientific</td>\n",
       "      <td>MONTHLY SUMMARY\\n\\n25 JANUARY 1986-\\n24 FEBRUA...</td>\n",
       "      <td>monthly summary 25 january 1986- 24 february 1...</td>\n",
       "    </tr>\n",
       "    <tr>\n",
       "      <th>1</th>\n",
       "      <td>data/Tobacco3482-text/Note/87705667.txt</td>\n",
       "      <td>Note</td>\n",
       "      <td>2/14/90\\n\\n   \\n\\nDATE:\\n\\n \\n\\n  \\n \\n\\nSUBJE...</td>\n",
       "      <td>2/14/90 date subject mifor information jplease...</td>\n",
       "    </tr>\n",
       "    <tr>\n",
       "      <th>2</th>\n",
       "      <td>data/Tobacco3482-text/Scientific/50590463-0469...</td>\n",
       "      <td>Scientific</td>\n",
       "      <td>Cell, Vol. 59, 1107-1113, December 22, 1989, C...</td>\n",
       "      <td>cell vol 59 1107 1113 december 22 1989 copyrig...</td>\n",
       "    </tr>\n",
       "    <tr>\n",
       "      <th>3</th>\n",
       "      <td>data/Tobacco3482-text/Resume/50617225-7226.txt</td>\n",
       "      <td>Resume</td>\n",
       "      <td>BIOGRAPHICAS SKETCH\\n\\nGive the following info...</td>\n",
       "      <td>biographicas sketch following information key ...</td>\n",
       "    </tr>\n",
       "    <tr>\n",
       "      <th>4</th>\n",
       "      <td>data/Tobacco3482-text/News/2078115137.txt</td>\n",
       "      <td>News</td>\n",
       "      <td>Tae NEWS &amp; OBSERVER\\n\\nFaday, Ocroagr 15, 1999...</td>\n",
       "      <td>tae news observer faday ocroagr 15 1999 advise...</td>\n",
       "    </tr>\n",
       "  </tbody>\n",
       "</table>\n",
       "</div>"
      ],
      "text/plain": [
       "                                                path       label  \\\n",
       "0    data/Tobacco3482-text/Scientific/2051025161.txt  Scientific   \n",
       "1            data/Tobacco3482-text/Note/87705667.txt        Note   \n",
       "2  data/Tobacco3482-text/Scientific/50590463-0469...  Scientific   \n",
       "3     data/Tobacco3482-text/Resume/50617225-7226.txt      Resume   \n",
       "4          data/Tobacco3482-text/News/2078115137.txt        News   \n",
       "\n",
       "                                                text  \\\n",
       "0  MONTHLY SUMMARY\\n\\n25 JANUARY 1986-\\n24 FEBRUA...   \n",
       "1  2/14/90\\n\\n   \\n\\nDATE:\\n\\n \\n\\n  \\n \\n\\nSUBJE...   \n",
       "2  Cell, Vol. 59, 1107-1113, December 22, 1989, C...   \n",
       "3  BIOGRAPHICAS SKETCH\\n\\nGive the following info...   \n",
       "4  Tae NEWS & OBSERVER\\n\\nFaday, Ocroagr 15, 1999...   \n",
       "\n",
       "                                        cleaned_text  \n",
       "0  monthly summary 25 january 1986- 24 february 1...  \n",
       "1  2/14/90 date subject mifor information jplease...  \n",
       "2  cell vol 59 1107 1113 december 22 1989 copyrig...  \n",
       "3  biographicas sketch following information key ...  \n",
       "4  tae news observer faday ocroagr 15 1999 advise...  "
      ]
     },
     "execution_count": 17,
     "metadata": {},
     "output_type": "execute_result"
    }
   ],
   "source": [
    "data.head() # visualisez les donnees apres pre-traitement"
   ]
  },
  {
   "cell_type": "code",
   "execution_count": 18,
   "metadata": {},
   "outputs": [
    {
     "name": "stdout",
     "output_type": "stream",
     "text": [
      "Avant: Tae NEWS & OBSERVER\n",
      "\n",
      "Faday, Ocroagr 15, 1999\n",
      "\n",
      "| advise and enjoin those who direct the paper n the tomorrows\n",
      "never to advocase any cause for personal profit 0 preferment.\n",
      "\n",
      "[ would wish it always to be “the tocsin” and to ¢ wote itself to the\n",
      "policies of equality and justice to the underprivil ced. If the paper\n",
      "should at any time be the voice of self-interest or Secome the\n",
      "spokesman of privilege or selfishness it would be untrue ta its history.\n",
      "— from the wall of Josepnus Daniels, Editor ore Publisher 1894-1940\n",
      "\n",
      "Beyond the smoke\n",
      "\n",
      "ide-saddle. That may be some-\n",
      "thing of an overstatement about the\n",
      "change of image taking place at the\n",
      "nation's largest cigarette manufactur-\n",
      "er, Philip Morris. But not by much. On\n",
      "a new Internet site, the company admits\n",
      "right out to “overwhelming medical and\n",
      "scientific consensus that cigarette smok-\n",
      "ing causes” diseases, including lung can-\n",
      "cer, emphysema and heart ailments.\n",
      "This is just blowing smoke, some crit-\n",
      "ies oe pares Lawyer Matthew Myers,\n",
      "speakdi ag for the Campaign for Tobacco-\n",
      "Free Kids, points out that i Philip Morris\n",
      "hasn't stated its agreement with this\n",
      "medical-scientific consensus, but has\n",
      "simply admitted it exists. Still, it's a\n",
      "drastic turnabout when a cigarette pro-\n",
      "ducer of Philip Morris’ stature agrees\n",
      "to almost inhale its chief opponents’\n",
      "views and states that smolang “is addic-\n",
      "tive as that term is most commonly\n",
      "used today.”\n",
      "\n",
      "A self-serving campaign? There's no\n",
      "doubt about that. Indeed, The New York\n",
      "Times reports, Philip Morris has\n",
      "embarked on a $100 million corporate\n",
      "image campaign. Coupled with that i is\n",
      "a verv practical business strategy —\n",
      "snuff out the cigarette-related ‘egal\n",
      "clauns that have tended to make chain-\n",
      "\n",
      "Ts Marlboro Man has begun riding\n",
      "\n",
      " \n",
      "\n",
      "smokers ot the inc ustry lawyers and\n",
      "check-writers.\n",
      "\n",
      "The logic of this tctical switch is not\n",
      "bardto flow Pa aueting Goanaee\n",
      "\n",
      "0 on mi Qn\n",
      "\n",
      "ut by sharing moe information with\n",
      "consumers about t1e risks of smoking,\n",
      "at least those on wi ich doctors and sci-\n",
      "entists agree, the company makes it\n",
      "harder for future sn okers to claim igno-\n",
      "rance about the dar gers of puffing away.\n",
      "\n",
      "While fully unde rstandabie from a\n",
      "business viewpoint this change in direc-\n",
      "tion surely opens smoke-peddiers to\n",
      "stricter regulation. Those who make\n",
      "and enforce laws :.nd regulations can\n",
      "\n",
      "close their t yes if a top player in\n",
      "the industry does =verything but own\n",
      "up ta the disease ind addiction aficat\n",
      "in the nation’s smi ke rings.\n",
      "\n",
      "In fact, it’s almc st as if Johnay, the\n",
      "Philip Morris bellt op of old, had begun\n",
      "circling the hotel lobby with calls for\n",
      "\n",
      "David Kessler anc Everett Koop.\n"
     ]
    }
   ],
   "source": [
    "print('Avant:', data['text'][4])"
   ]
  },
  {
   "cell_type": "code",
   "execution_count": 19,
   "metadata": {},
   "outputs": [
    {
     "name": "stdout",
     "output_type": "stream",
     "text": [
      "Après: tae news observer faday ocroagr 15 1999 advise enjoin direct paper n tomorrows advocase cause personal profit 0 preferment wish “ tocsin ” ¢ wote policies equality justice underprivil ced paper time voice self interest secome spokesman privilege selfishness untrue ta history — wall josepnus daniels editor ore publisher 1894 1940 smoke ide saddle some- thing overstatement change image taking place nation largest cigarette manufactur- er philip morris new internet site company admits right “ overwhelming medical scientific consensus cigarette smok- ing causes ” diseases including lung can- cer emphysema heart ailments blowing smoke crit- ies oe pares lawyer matthew myers speakdi ag campaign tobacco- free kids points philip morris stated agreement medical scientific consensus simply admitted exists drastic turnabout cigarette pro- ducer philip morris ’ stature agrees inhale chief opponents ’ views states smolang “ addic- tive term commonly today ” self serving campaign doubt new york times reports philip morris embarked 100 million corporate image campaign coupled verv practical business strategy — snuff cigarette related ‘ egal clauns tended chain- ts marlboro man begun riding smokers ot inc ustry lawyers check writers logic tctical switch bardto flow pa aueting goanaee 0 mi qn ut sharing moe information consumers t1e risks smoking wi ich doctors sci- entists agree company makes harder future sn okers claim igno- rance dar gers puffing away fully unde rstandabie business viewpoint change direc- tion surely opens smoke peddiers stricter regulation enforce laws .nd regulations close t yes player industry verything ta disease ind addiction aficat nation ’s smi ke rings fact ’s almc st johnay philip morris bellt op old begun circling hotel lobby calls david kessler anc everett koop\n"
     ]
    }
   ],
   "source": [
    "print('Après:', data['cleaned_text'][4])"
   ]
  },
  {
   "cell_type": "code",
   "execution_count": 20,
   "metadata": {},
   "outputs": [
    {
     "data": {
      "text/plain": [
       "2784"
      ]
     },
     "execution_count": 20,
     "metadata": {},
     "output_type": "execute_result"
    }
   ],
   "source": [
    "data.size"
   ]
  },
  {
   "cell_type": "markdown",
   "metadata": {},
   "source": [
    "Une fois que le prétraitement peut supprimer de nombreux mots, il est possible que les documents restent vides. Nous allons vérifier cela."
   ]
  },
  {
   "cell_type": "code",
   "execution_count": 21,
   "metadata": {},
   "outputs": [
    {
     "data": {
      "text/plain": [
       "4"
      ]
     },
     "execution_count": 21,
     "metadata": {},
     "output_type": "execute_result"
    }
   ],
   "source": [
    "data['cleaned_text'].isnull().sum()"
   ]
  },
  {
   "cell_type": "markdown",
   "metadata": {},
   "source": [
    "Il y a des documents sans mots restants, nous les rejetons donc."
   ]
  },
  {
   "cell_type": "code",
   "execution_count": 22,
   "metadata": {},
   "outputs": [],
   "source": [
    "data.dropna(subset=['cleaned_text'], inplace=True)"
   ]
  },
  {
   "cell_type": "markdown",
   "metadata": {},
   "source": [
    "Vérifiez à nouveau."
   ]
  },
  {
   "cell_type": "code",
   "execution_count": 23,
   "metadata": {},
   "outputs": [
    {
     "data": {
      "text/plain": [
       "0"
      ]
     },
     "execution_count": 23,
     "metadata": {},
     "output_type": "execute_result"
    }
   ],
   "source": [
    "data['cleaned_text'].isnull().sum()"
   ]
  },
  {
   "cell_type": "code",
   "execution_count": 24,
   "metadata": {},
   "outputs": [
    {
     "data": {
      "text/plain": [
       "2768"
      ]
     },
     "execution_count": 24,
     "metadata": {},
     "output_type": "execute_result"
    }
   ],
   "source": [
    "data.size"
   ]
  },
  {
   "cell_type": "markdown",
   "metadata": {},
   "source": [
    "\n",
    "**<span style=\"color:red\">To do</span>**:\n",
    "\n",
    "> * Maintenant que nous avons utilisé [`spaCy`](https://spacy.io) pour le prétraitement, écrivez une fonction qui utilise la bibliothèque [`nltk`](https://www.nltk.org/). \n",
    "> * Utilisez [```word_tokenize```](https://www.nltk.org/api/nltk.tokenize.html) pour la tokenisation, téléchargez les mots vides nltk avec ``python -m nltk.downloader stopwords`` et supprimez tous les autres **tokens** qui, selon vous, nuiront à la précision des algorithmes d'apprentissage automatique (nombres? Ponctuation? Etc.)\n"
   ]
  },
  {
   "cell_type": "code",
   "execution_count": 25,
   "metadata": {},
   "outputs": [
    {
     "name": "stdout",
     "output_type": "stream",
     "text": [
      "Requirement already satisfied: nltk in /opt/conda/lib/python3.7/site-packages (3.5)\n",
      "Requirement already satisfied: joblib in /opt/conda/lib/python3.7/site-packages (from nltk) (1.0.1)\n",
      "Requirement already satisfied: tqdm in /opt/conda/lib/python3.7/site-packages (from nltk) (4.41.1)\n",
      "Requirement already satisfied: click in /opt/conda/lib/python3.7/site-packages (from nltk) (7.1.2)\n",
      "Requirement already satisfied: regex in /opt/conda/lib/python3.7/site-packages (from nltk) (2020.11.13)\n",
      "/opt/conda/lib/python3.7/runpy.py:125: RuntimeWarning: 'nltk.downloader' found in sys.modules after import of package 'nltk', but prior to execution of 'nltk.downloader'; this may result in unpredictable behaviour\n",
      "  warn(RuntimeWarning(msg))\n",
      "[nltk_data] Downloading package stopwords to /home/jovyan/nltk_data...\n",
      "[nltk_data]   Package stopwords is already up-to-date!\n"
     ]
    }
   ],
   "source": [
    "!pip install nltk\n",
    "!python -m nltk.downloader stopwords"
   ]
  },
  {
   "cell_type": "code",
   "execution_count": 26,
   "metadata": {},
   "outputs": [
    {
     "name": "stdout",
     "output_type": "stream",
     "text": [
      "['i', 'me', 'my', 'myself', 'we', 'our', 'ours', 'ourselves', 'you', \"you're\", \"you've\", \"you'll\", \"you'd\", 'your', 'yours', 'yourself', 'yourselves', 'he', 'him', 'his', 'himself', 'she', \"she's\", 'her', 'hers', 'herself', 'it', \"it's\", 'its', 'itself', 'they', 'them', 'their', 'theirs', 'themselves', 'what', 'which', 'who', 'whom', 'this', 'that', \"that'll\", 'these', 'those', 'am', 'is', 'are', 'was', 'were', 'be', 'been', 'being', 'have', 'has', 'had', 'having', 'do', 'does', 'did', 'doing', 'a', 'an', 'the', 'and', 'but', 'if', 'or', 'because', 'as', 'until', 'while', 'of', 'at', 'by', 'for', 'with', 'about', 'against', 'between', 'into', 'through', 'during', 'before', 'after', 'above', 'below', 'to', 'from', 'up', 'down', 'in', 'out', 'on', 'off', 'over', 'under', 'again', 'further', 'then', 'once', 'here', 'there', 'when', 'where', 'why', 'how', 'all', 'any', 'both', 'each', 'few', 'more', 'most', 'other', 'some', 'such', 'no', 'nor', 'not', 'only', 'own', 'same', 'so', 'than', 'too', 'very', 's', 't', 'can', 'will', 'just', 'don', \"don't\", 'should', \"should've\", 'now', 'd', 'll', 'm', 'o', 're', 've', 'y', 'ain', 'aren', \"aren't\", 'couldn', \"couldn't\", 'didn', \"didn't\", 'doesn', \"doesn't\", 'hadn', \"hadn't\", 'hasn', \"hasn't\", 'haven', \"haven't\", 'isn', \"isn't\", 'ma', 'mightn', \"mightn't\", 'mustn', \"mustn't\", 'needn', \"needn't\", 'shan', \"shan't\", 'shouldn', \"shouldn't\", 'wasn', \"wasn't\", 'weren', \"weren't\", 'won', \"won't\", 'wouldn', \"wouldn't\"]\n"
     ]
    }
   ],
   "source": [
    "from nltk.corpus import stopwords\n",
    "\n",
    "nltk_stopwords = stopwords.words('english')\n",
    "\n",
    "print(nltk_stopwords)"
   ]
  },
  {
   "cell_type": "code",
   "execution_count": 27,
   "metadata": {},
   "outputs": [],
   "source": [
    "from nltk.tokenize import word_tokenize\n",
    "\n",
    "def preprocess_with_nltk(phrase):\n",
    "    \n",
    "    phrase = phrase.lower()\n",
    "    \n",
    "    tokens = word_tokenize(phrase)# YOUR CODE HERE\n",
    "    \n",
    "    tokens = [token for token in tokens if len(token) > 0]\n",
    "    \n",
    "    if len(tokens) > 0:\n",
    "        return ' '.join(tokens)\n",
    "    return None\n",
    "\n",
    "data['cleaned_text_nltk'] = data['text'].apply(preprocess_with_nltk)"
   ]
  },
  {
   "cell_type": "markdown",
   "metadata": {},
   "source": [
    "Maintenant que nous savons **nettoyer les données**, nous pouvons aussi analyser le corpus avec des autres stratistiques, comme les occurences de chaque mot. Nous utilisons la classe [`nltk.FreqDist`](https://www.nltk.org/api/nltk.html?highlight=freqdist).\n",
    "\n",
    "Plus d'informations pour [`numpy hstack`](https://numpy.org/doc/stable/reference/generated/numpy.hstack.html) "
   ]
  },
  {
   "cell_type": "code",
   "execution_count": 28,
   "metadata": {},
   "outputs": [
    {
     "data": {
      "text/plain": [
       "array([1, 1, 1, 1, 1, 2, 2, 2, 2, 2])"
      ]
     },
     "execution_count": 28,
     "metadata": {},
     "output_type": "execute_result"
    }
   ],
   "source": [
    "import numpy as np\n",
    "\n",
    "list_a = [1, 1, 1, 1, 1]\n",
    "list_b = [2, 2, 2, 2, 2]\n",
    "\n",
    "np.hstack([list_a, list_b]) # Exemple de fonctionnement de cette méthode avec des listes"
   ]
  },
  {
   "cell_type": "code",
   "execution_count": 29,
   "metadata": {},
   "outputs": [],
   "source": [
    "import nltk\n",
    "import numpy as np\n",
    "\n",
    "freq = nltk.FreqDist(np.hstack([text.split(' ') for text in data['cleaned_text']]))"
   ]
  },
  {
   "cell_type": "code",
   "execution_count": 30,
   "metadata": {},
   "outputs": [
    {
     "name": "stdout",
     "output_type": "stream",
     "text": [
      "cigarettes : 158\n",
      "cancer : 155\n",
      "alcohol : 24\n",
      "death : 24\n"
     ]
    }
   ],
   "source": [
    "for word in ['cigarettes', 'cancer', 'alcohol', 'death']:\n",
    "    print(word, ':', freq[word])"
   ]
  },
  {
   "cell_type": "markdown",
   "metadata": {},
   "source": [
    "On peut grâce à `FreqDist` récupérer les 25 termes les plus courants du corpus."
   ]
  },
  {
   "cell_type": "code",
   "execution_count": 31,
   "metadata": {},
   "outputs": [
    {
     "name": "stdout",
     "output_type": "stream",
     "text": [
      "[('“', 736), ('‘', 520), ('”', 428), ('tobacco', 420), ('smoking', 389), ('1', 387), ('new', 356), ('date', 345), ('2', 341), ('research', 327), ('subject', 306), ('’', 285), ('3', 250), ('—', 240), ('4', 237), ('cigarette', 231), ('university', 213), ('dr', 212), ('smoke', 209), ('health', 202), ('mr', 197), ('’s', 191), ('study', 179), ('j.', 178), ('e', 177)]\n"
     ]
    }
   ],
   "source": [
    "print(freq.most_common(25))"
   ]
  },
  {
   "cell_type": "code",
   "execution_count": 32,
   "metadata": {},
   "outputs": [
    {
     "data": {
      "image/png": "[encoded data removed]",
      "text/plain": [
       "<Figure size 432x288 with 1 Axes>"
      ]
     },
     "metadata": {
      "needs_background": "light"
     },
     "output_type": "display_data"
    }
   ],
   "source": [
    "_ = freq.plot(50, cumulative=False)"
   ]
  },
  {
   "cell_type": "markdown",
   "metadata": {},
   "source": [
    "### 2.2.2  Lemmatisation\n",
    "\n",
    "Le processus de « [**lemmatisation**](https://fr.wikipedia.org/wiki/Lemmatisation) » consiste à représenter les mots (ou [lemmes](https://fr.wikipedia.org/wiki/Lemme_(linguistique)) en linguistique) sous leur forme canonique. Par exemple pour un verbe, ce sera son infinitif. Pour un nom, son masculin singulier. On ne **conserve que le sens des mots** utilisés dans le corpus. \n"
   ]
  },
  {
   "cell_type": "code",
   "execution_count": 33,
   "metadata": {},
   "outputs": [
    {
     "name": "stdout",
     "output_type": "stream",
     "text": [
      "Word: Better \t Lemma: well\n",
      "Word: to \t Lemma: to\n",
      "Word: have \t Lemma: have\n",
      "Word: friends \t Lemma: friend\n",
      "Word: and \t Lemma: and\n",
      "Word: games \t Lemma: game\n",
      "Word: during \t Lemma: during\n",
      "Word: worse \t Lemma: bad\n",
      "Word: times \t Lemma: time\n"
     ]
    }
   ],
   "source": [
    "doc = nlp(\"Better to have friends and games during worse times \")\n",
    "\n",
    "for token in doc:\n",
    "    print('Word:', token.text, '\\t', 'Lemma:', token.lemma_) # Comment obtenir le lemme d'un mot"
   ]
  },
  {
   "cell_type": "markdown",
   "metadata": {},
   "source": [
    "**<span style=\"color:red\">To do</span>**:\n",
    "\n",
    "> * Ecrivez une méthode de prétraitement qui effectue également la lemmatisation. Utilisez [```spaCy```](https://spacy.io/usage/linguistic-features#lemmatization/) pour la tokenisation, et supprimez les mots vides et punctuation (`spacy_stopwords + punctuation`), et tous les autres **tokens** qui, selon vous, nuiront à la précision des algorithmes d'apprentissage automatique (nombres ? ponctuation ? Etc.)\n"
   ]
  },
  {
   "cell_type": "code",
   "execution_count": 34,
   "metadata": {},
   "outputs": [],
   "source": [
    "def preprocess_with_lemmatisation(phrase):\n",
    "    \n",
    "    phrase = phrase.lower()\n",
    "    \n",
    "    doc = nlp(phrase)\n",
    "    \n",
    "    tokens = []\n",
    "    \n",
    "    for i in doc :\n",
    "        tokens.append(i.lemma_)\n",
    "    \n",
    "    tokens = [token for token in tokens if len(token) > 0]\n",
    "    \n",
    "    if len(tokens) > 0:\n",
    "        return ' '.join(tokens)\n",
    "    return None\n",
    "\n",
    "data['cleaned_text_with_lemmatisation'] = data['text'].apply(preprocess_with_lemmatisation)"
   ]
  },
  {
   "cell_type": "code",
   "execution_count": 35,
   "metadata": {},
   "outputs": [
    {
     "data": {
      "text/html": [
       "<div>\n",
       "<style scoped>\n",
       "    .dataframe tbody tr th:only-of-type {\n",
       "        vertical-align: middle;\n",
       "    }\n",
       "\n",
       "    .dataframe tbody tr th {\n",
       "        vertical-align: top;\n",
       "    }\n",
       "\n",
       "    .dataframe thead th {\n",
       "        text-align: right;\n",
       "    }\n",
       "</style>\n",
       "<table border=\"1\" class=\"dataframe\">\n",
       "  <thead>\n",
       "    <tr style=\"text-align: right;\">\n",
       "      <th></th>\n",
       "      <th>path</th>\n",
       "      <th>label</th>\n",
       "      <th>text</th>\n",
       "      <th>cleaned_text</th>\n",
       "      <th>cleaned_text_nltk</th>\n",
       "      <th>cleaned_text_with_lemmatisation</th>\n",
       "    </tr>\n",
       "  </thead>\n",
       "  <tbody>\n",
       "    <tr>\n",
       "      <th>0</th>\n",
       "      <td>data/Tobacco3482-text/Scientific/2051025161.txt</td>\n",
       "      <td>Scientific</td>\n",
       "      <td>MONTHLY SUMMARY\\n\\n25 JANUARY 1986-\\n24 FEBRUA...</td>\n",
       "      <td>monthly summary 25 january 1986- 24 february 1...</td>\n",
       "      <td>monthly summary 25 january 1986- 24 february 1...</td>\n",
       "      <td>monthly summary \\n\\n 25 january 1986- \\n 24 fe...</td>\n",
       "    </tr>\n",
       "    <tr>\n",
       "      <th>1</th>\n",
       "      <td>data/Tobacco3482-text/Note/87705667.txt</td>\n",
       "      <td>Note</td>\n",
       "      <td>2/14/90\\n\\n   \\n\\nDATE:\\n\\n \\n\\n  \\n \\n\\nSUBJE...</td>\n",
       "      <td>2/14/90 date subject mifor information jplease...</td>\n",
       "      <td>2/14/90 date : subject : mifor your informatio...</td>\n",
       "      <td>2/14/90 \\n\\n   \\n\\n date : \\n\\n \\n\\n  \\n \\n\\n ...</td>\n",
       "    </tr>\n",
       "    <tr>\n",
       "      <th>2</th>\n",
       "      <td>data/Tobacco3482-text/Scientific/50590463-0469...</td>\n",
       "      <td>Scientific</td>\n",
       "      <td>Cell, Vol. 59, 1107-1113, December 22, 1989, C...</td>\n",
       "      <td>cell vol 59 1107 1113 december 22 1989 copyrig...</td>\n",
       "      <td>cell , vol . 59 , 1107-1113 , december 22 , 19...</td>\n",
       "      <td>cell , vol . 59 , 1107 - 1113 , december 22 , ...</td>\n",
       "    </tr>\n",
       "    <tr>\n",
       "      <th>3</th>\n",
       "      <td>data/Tobacco3482-text/Resume/50617225-7226.txt</td>\n",
       "      <td>Resume</td>\n",
       "      <td>BIOGRAPHICAS SKETCH\\n\\nGive the following info...</td>\n",
       "      <td>biographicas sketch following information key ...</td>\n",
       "      <td>biographicas sketch give the following informa...</td>\n",
       "      <td>biographicas sketch \\n\\n give the follow infor...</td>\n",
       "    </tr>\n",
       "    <tr>\n",
       "      <th>4</th>\n",
       "      <td>data/Tobacco3482-text/News/2078115137.txt</td>\n",
       "      <td>News</td>\n",
       "      <td>Tae NEWS &amp; OBSERVER\\n\\nFaday, Ocroagr 15, 1999...</td>\n",
       "      <td>tae news observer faday ocroagr 15 1999 advise...</td>\n",
       "      <td>tae news &amp; observer faday , ocroagr 15 , 1999 ...</td>\n",
       "      <td>tae news &amp; observer \\n\\n faday , ocroagr 15 , ...</td>\n",
       "    </tr>\n",
       "  </tbody>\n",
       "</table>\n",
       "</div>"
      ],
      "text/plain": [
       "                                                path       label  \\\n",
       "0    data/Tobacco3482-text/Scientific/2051025161.txt  Scientific   \n",
       "1            data/Tobacco3482-text/Note/87705667.txt        Note   \n",
       "2  data/Tobacco3482-text/Scientific/50590463-0469...  Scientific   \n",
       "3     data/Tobacco3482-text/Resume/50617225-7226.txt      Resume   \n",
       "4          data/Tobacco3482-text/News/2078115137.txt        News   \n",
       "\n",
       "                                                text  \\\n",
       "0  MONTHLY SUMMARY\\n\\n25 JANUARY 1986-\\n24 FEBRUA...   \n",
       "1  2/14/90\\n\\n   \\n\\nDATE:\\n\\n \\n\\n  \\n \\n\\nSUBJE...   \n",
       "2  Cell, Vol. 59, 1107-1113, December 22, 1989, C...   \n",
       "3  BIOGRAPHICAS SKETCH\\n\\nGive the following info...   \n",
       "4  Tae NEWS & OBSERVER\\n\\nFaday, Ocroagr 15, 1999...   \n",
       "\n",
       "                                        cleaned_text  \\\n",
       "0  monthly summary 25 january 1986- 24 february 1...   \n",
       "1  2/14/90 date subject mifor information jplease...   \n",
       "2  cell vol 59 1107 1113 december 22 1989 copyrig...   \n",
       "3  biographicas sketch following information key ...   \n",
       "4  tae news observer faday ocroagr 15 1999 advise...   \n",
       "\n",
       "                                   cleaned_text_nltk  \\\n",
       "0  monthly summary 25 january 1986- 24 february 1...   \n",
       "1  2/14/90 date : subject : mifor your informatio...   \n",
       "2  cell , vol . 59 , 1107-1113 , december 22 , 19...   \n",
       "3  biographicas sketch give the following informa...   \n",
       "4  tae news & observer faday , ocroagr 15 , 1999 ...   \n",
       "\n",
       "                     cleaned_text_with_lemmatisation  \n",
       "0  monthly summary \\n\\n 25 january 1986- \\n 24 fe...  \n",
       "1  2/14/90 \\n\\n   \\n\\n date : \\n\\n \\n\\n  \\n \\n\\n ...  \n",
       "2  cell , vol . 59 , 1107 - 1113 , december 22 , ...  \n",
       "3  biographicas sketch \\n\\n give the follow infor...  \n",
       "4  tae news & observer \\n\\n faday , ocroagr 15 , ...  "
      ]
     },
     "execution_count": 35,
     "metadata": {},
     "output_type": "execute_result"
    }
   ],
   "source": [
    "data.head()"
   ]
  },
  {
   "cell_type": "code",
   "execution_count": 36,
   "metadata": {},
   "outputs": [
    {
     "name": "stdout",
     "output_type": "stream",
     "text": [
      "monthly summary 25 january 1986- 24 february 1986 david douglas 1 non burning smoking article additional work subject month examining filtration effect cellulose acetate filter versus filter sample examined iff tobacco neutral fraction flavor microliters sample applied piece filter paper inside plastic tube like flavor development non burning smoking article thirty ml puffs withdrawn alternately end containing filter end open results chromatograms produced samples taken ways showed later polar volatile components reduced disproportionately puffed filter compared sample taken filter observation implications use tobacco identical flavors burning non burning smoking products flavor apparently natural representative tobacco identical flavors additional work anticipated area desired supervisors chemical research division aid divisional goals major r&d programs memo summarizing observations date written 2 setup electron capture detector additional work ecd discussed month document work pe data system course work lower limits detectability lindane aldrin explored difinitively determined found approximately 300 400 femtograms 10 13 grams pesticide detected 2:1 signal noise ratio half minimum 15 picograms pesticides detected 3 microliters bright tobacco extract accuracy concentration pesticide standard compared completely separate standard lindane amounts source found equal normal experimental variability memo concerning work written work area need arises fitszotsoe\n"
     ]
    }
   ],
   "source": [
    "print(data['cleaned_text'][0])"
   ]
  },
  {
   "cell_type": "code",
   "execution_count": 37,
   "metadata": {},
   "outputs": [
    {
     "name": "stdout",
     "output_type": "stream",
     "text": [
      "monthly summary \n",
      "\n",
      " 25 january 1986- \n",
      " 24 february 1986 \n",
      "\n",
      " for : david douglas \n",
      " 1 . non - burning smoking article : \n",
      "\n",
      " additional work on this subject be do this month by examine the \n",
      " filtration effect of a cellulose acetate filter versus no filter . the \n",
      " sample examine be an iff tobacco neutral fraction flavor . fifty \n",
      " microliter of the sample be apply to a piece of filter paper inside a \n",
      " plastic tube like those use by flavor development for the non - burning \n",
      " smoking article . thirty - five ml puff be withdraw alternately at one end \n",
      " contain a ca filter and at the other end , which be open . the result of \n",
      " chromatogram produce by sample take in these way show that the later , \n",
      " more polar , less volatile component be reduce disproportionately when \n",
      " puff through the ca filter compare to a sample take with no filter . \n",
      "\n",
      " this observation could have implication for the use of tobacco - identical \n",
      " flavor in both burning and non - burning smoking product , since this flavor \n",
      " be apparently natural and therefore representative of tobacco - identical \n",
      " flavor . \n",
      "\n",
      " no additional work be anticipate in this area unless -PRON- be desire \n",
      " by supervisor of the chemical research division , as an aid to divisional \n",
      " goal or major r&d program . however , a memo summarize the observation \n",
      " make to date be be write . \n",
      "\n",
      " 2 . setup of an electron capture detector : \n",
      "\n",
      " some additional work with the ecd ( discuss last month ) be do , \n",
      " mostly to document the work on the pe data system . however in the course of \n",
      " this work the low limit of detectability of lindane and aldrin be \n",
      " explore and more difinitively determined . -PRON- be find that approximately \n",
      "\n",
      " 300 - 400 femtogram ( 10 - 13 gram ) of either pesticide could be detect at a \n",
      " 2:1 signal to noise ratio , but about half this amount could not . a minimum \n",
      "\n",
      " of 15 picogram of each of the pesticide be detect in 3 microliter of \n",
      " a bright tobacco extract . the accuracy of the concentration of the \n",
      " pesticide standard being use be compare with a completely separate \n",
      " standard of lindane , and the amount from each source be find to be \n",
      " equal within normal experimental variability . \n",
      "\n",
      " a memo concern this work be be write , and no further work \n",
      " will be do in this area unless a need arise . \n",
      "\n",
      " fitszotsoe\n"
     ]
    }
   ],
   "source": [
    "print(data['cleaned_text_with_lemmatisation'][0])"
   ]
  },
  {
   "cell_type": "markdown",
   "metadata": {},
   "source": [
    "\n",
    "### 2.2.3 Racinisation\n",
    "\n",
    "Un autre processus, la [**racinisation**](https://fr.wikipedia.org/wiki/Racinisation) (ou *stemming* en anglais) a une approche similaire. Cela consiste à ne conserver que la racine des mots étudiés : on supprime suffixes, préfixes et autres afin de ne conserver que la racine. "
   ]
  },
  {
   "cell_type": "code",
   "execution_count": 38,
   "metadata": {},
   "outputs": [],
   "source": [
    "from nltk.stem.snowball import EnglishStemmer\n",
    "stemmer = EnglishStemmer()"
   ]
  },
  {
   "cell_type": "markdown",
   "metadata": {},
   "source": [
    "La **racinisation** va tronquer les mots, par exemple comme ci-dessous :"
   ]
  },
  {
   "cell_type": "code",
   "execution_count": 39,
   "metadata": {},
   "outputs": [
    {
     "name": "stdout",
     "output_type": "stream",
     "text": [
      "Word: Better \t Lemma: better\n",
      "Word: to \t Lemma: to\n",
      "Word: have \t Lemma: have\n",
      "Word: friends \t Lemma: friend\n",
      "Word: and \t Lemma: and\n",
      "Word: games \t Lemma: game\n",
      "Word: during \t Lemma: dure\n",
      "Word: worse \t Lemma: wors\n",
      "Word: times \t Lemma: time\n"
     ]
    }
   ],
   "source": [
    "doc = nlp(\"Better to have friends and games during worse times\")\n",
    "for token in doc:\n",
    "    print('Word:', token.text, '\\t', 'Lemma:', stemmer.stem(token.text))"
   ]
  },
  {
   "cell_type": "markdown",
   "metadata": {},
   "source": [
    "**<span style=\"color:red\">To do</span>**:\n",
    "\n",
    "> * Ecrivez une méthode de prétraitement qui effectue également la racinisation."
   ]
  },
  {
   "cell_type": "code",
   "execution_count": 40,
   "metadata": {},
   "outputs": [],
   "source": [
    "def preprocess_with_stemming(phrase):\n",
    "    \n",
    "    phrase = phrase.lower()\n",
    "    \n",
    "    doc = nlp(phrase)\n",
    "    \n",
    "    tokens = []\n",
    "    \n",
    "    for i in doc :\n",
    "        tokens.append(stemmer.stem(i.text))\n",
    "    \n",
    "    tokens = [token for token in tokens if len(token) > 0]\n",
    "    \n",
    "    if len(tokens) > 0:\n",
    "        return ' '.join(tokens)\n",
    "    return None\n",
    "\n",
    "\n",
    "data['cleaned_text_with_stemming'] = data['text'].apply(preprocess_with_stemming)"
   ]
  },
  {
   "cell_type": "code",
   "execution_count": 41,
   "metadata": {},
   "outputs": [
    {
     "data": {
      "text/html": [
       "<div>\n",
       "<style scoped>\n",
       "    .dataframe tbody tr th:only-of-type {\n",
       "        vertical-align: middle;\n",
       "    }\n",
       "\n",
       "    .dataframe tbody tr th {\n",
       "        vertical-align: top;\n",
       "    }\n",
       "\n",
       "    .dataframe thead th {\n",
       "        text-align: right;\n",
       "    }\n",
       "</style>\n",
       "<table border=\"1\" class=\"dataframe\">\n",
       "  <thead>\n",
       "    <tr style=\"text-align: right;\">\n",
       "      <th></th>\n",
       "      <th>path</th>\n",
       "      <th>label</th>\n",
       "      <th>text</th>\n",
       "      <th>cleaned_text</th>\n",
       "      <th>cleaned_text_nltk</th>\n",
       "      <th>cleaned_text_with_lemmatisation</th>\n",
       "      <th>cleaned_text_with_stemming</th>\n",
       "    </tr>\n",
       "  </thead>\n",
       "  <tbody>\n",
       "    <tr>\n",
       "      <th>0</th>\n",
       "      <td>data/Tobacco3482-text/Scientific/2051025161.txt</td>\n",
       "      <td>Scientific</td>\n",
       "      <td>MONTHLY SUMMARY\\n\\n25 JANUARY 1986-\\n24 FEBRUA...</td>\n",
       "      <td>monthly summary 25 january 1986- 24 february 1...</td>\n",
       "      <td>monthly summary 25 january 1986- 24 february 1...</td>\n",
       "      <td>monthly summary \\n\\n 25 january 1986- \\n 24 fe...</td>\n",
       "      <td>month summari \\n\\n 25 januari 1986- \\n 24 febr...</td>\n",
       "    </tr>\n",
       "    <tr>\n",
       "      <th>1</th>\n",
       "      <td>data/Tobacco3482-text/Note/87705667.txt</td>\n",
       "      <td>Note</td>\n",
       "      <td>2/14/90\\n\\n   \\n\\nDATE:\\n\\n \\n\\n  \\n \\n\\nSUBJE...</td>\n",
       "      <td>2/14/90 date subject mifor information jplease...</td>\n",
       "      <td>2/14/90 date : subject : mifor your informatio...</td>\n",
       "      <td>2/14/90 \\n\\n   \\n\\n date : \\n\\n \\n\\n  \\n \\n\\n ...</td>\n",
       "      <td>2/14/90 \\n\\n   \\n\\n date : \\n\\n \\n\\n  \\n \\n\\n ...</td>\n",
       "    </tr>\n",
       "    <tr>\n",
       "      <th>2</th>\n",
       "      <td>data/Tobacco3482-text/Scientific/50590463-0469...</td>\n",
       "      <td>Scientific</td>\n",
       "      <td>Cell, Vol. 59, 1107-1113, December 22, 1989, C...</td>\n",
       "      <td>cell vol 59 1107 1113 december 22 1989 copyrig...</td>\n",
       "      <td>cell , vol . 59 , 1107-1113 , december 22 , 19...</td>\n",
       "      <td>cell , vol . 59 , 1107 - 1113 , december 22 , ...</td>\n",
       "      <td>cell , vol . 59 , 1107 - 1113 , decemb 22 , 19...</td>\n",
       "    </tr>\n",
       "    <tr>\n",
       "      <th>3</th>\n",
       "      <td>data/Tobacco3482-text/Resume/50617225-7226.txt</td>\n",
       "      <td>Resume</td>\n",
       "      <td>BIOGRAPHICAS SKETCH\\n\\nGive the following info...</td>\n",
       "      <td>biographicas sketch following information key ...</td>\n",
       "      <td>biographicas sketch give the following informa...</td>\n",
       "      <td>biographicas sketch \\n\\n give the follow infor...</td>\n",
       "      <td>biographica sketch \\n\\n give the follow inform...</td>\n",
       "    </tr>\n",
       "    <tr>\n",
       "      <th>4</th>\n",
       "      <td>data/Tobacco3482-text/News/2078115137.txt</td>\n",
       "      <td>News</td>\n",
       "      <td>Tae NEWS &amp; OBSERVER\\n\\nFaday, Ocroagr 15, 1999...</td>\n",
       "      <td>tae news observer faday ocroagr 15 1999 advise...</td>\n",
       "      <td>tae news &amp; observer faday , ocroagr 15 , 1999 ...</td>\n",
       "      <td>tae news &amp; observer \\n\\n faday , ocroagr 15 , ...</td>\n",
       "      <td>tae news &amp; observ \\n\\n faday , ocroagr 15 , 19...</td>\n",
       "    </tr>\n",
       "  </tbody>\n",
       "</table>\n",
       "</div>"
      ],
      "text/plain": [
       "                                                path       label  \\\n",
       "0    data/Tobacco3482-text/Scientific/2051025161.txt  Scientific   \n",
       "1            data/Tobacco3482-text/Note/87705667.txt        Note   \n",
       "2  data/Tobacco3482-text/Scientific/50590463-0469...  Scientific   \n",
       "3     data/Tobacco3482-text/Resume/50617225-7226.txt      Resume   \n",
       "4          data/Tobacco3482-text/News/2078115137.txt        News   \n",
       "\n",
       "                                                text  \\\n",
       "0  MONTHLY SUMMARY\\n\\n25 JANUARY 1986-\\n24 FEBRUA...   \n",
       "1  2/14/90\\n\\n   \\n\\nDATE:\\n\\n \\n\\n  \\n \\n\\nSUBJE...   \n",
       "2  Cell, Vol. 59, 1107-1113, December 22, 1989, C...   \n",
       "3  BIOGRAPHICAS SKETCH\\n\\nGive the following info...   \n",
       "4  Tae NEWS & OBSERVER\\n\\nFaday, Ocroagr 15, 1999...   \n",
       "\n",
       "                                        cleaned_text  \\\n",
       "0  monthly summary 25 january 1986- 24 february 1...   \n",
       "1  2/14/90 date subject mifor information jplease...   \n",
       "2  cell vol 59 1107 1113 december 22 1989 copyrig...   \n",
       "3  biographicas sketch following information key ...   \n",
       "4  tae news observer faday ocroagr 15 1999 advise...   \n",
       "\n",
       "                                   cleaned_text_nltk  \\\n",
       "0  monthly summary 25 january 1986- 24 february 1...   \n",
       "1  2/14/90 date : subject : mifor your informatio...   \n",
       "2  cell , vol . 59 , 1107-1113 , december 22 , 19...   \n",
       "3  biographicas sketch give the following informa...   \n",
       "4  tae news & observer faday , ocroagr 15 , 1999 ...   \n",
       "\n",
       "                     cleaned_text_with_lemmatisation  \\\n",
       "0  monthly summary \\n\\n 25 january 1986- \\n 24 fe...   \n",
       "1  2/14/90 \\n\\n   \\n\\n date : \\n\\n \\n\\n  \\n \\n\\n ...   \n",
       "2  cell , vol . 59 , 1107 - 1113 , december 22 , ...   \n",
       "3  biographicas sketch \\n\\n give the follow infor...   \n",
       "4  tae news & observer \\n\\n faday , ocroagr 15 , ...   \n",
       "\n",
       "                          cleaned_text_with_stemming  \n",
       "0  month summari \\n\\n 25 januari 1986- \\n 24 febr...  \n",
       "1  2/14/90 \\n\\n   \\n\\n date : \\n\\n \\n\\n  \\n \\n\\n ...  \n",
       "2  cell , vol . 59 , 1107 - 1113 , decemb 22 , 19...  \n",
       "3  biographica sketch \\n\\n give the follow inform...  \n",
       "4  tae news & observ \\n\\n faday , ocroagr 15 , 19...  "
      ]
     },
     "execution_count": 41,
     "metadata": {},
     "output_type": "execute_result"
    }
   ],
   "source": [
    "data.head()"
   ]
  },
  {
   "cell_type": "markdown",
   "metadata": {},
   "source": [
    "# 4. Representation des mots"
   ]
  },
  {
   "cell_type": "markdown",
   "metadata": {},
   "source": [
    "\n",
    "## 4.1 « *bag of words* » (sac de mots)\n",
    "\n",
    "L’**extraction d’information** est l’étape qui suit le **nettoyage** du corpus. Pour ce faire, il nous faut changer la représentation du texte pour qu’il puisse être utilisé par un modèle statistique, et pour pouvoir l’exploiter.\n",
    "\n",
    "Une représentation **bag-of-words** classique sera donc celle dans laquelle on représente chaque document par un vecteur de la taille du vocabulaire $|V|$. On utilisera la matrice composée de l’ensemble de ces $N$ documents qui forment le corpus comme entrée de nos algorithmes.\n",
    "\n",
    "Nous allons voir comment cela fonctionne et imprimer les mots les plus pertinents à l’aide de la classe [`CountVectorizer`](https://scikit-learn.org/stable/modules/generated/sklearn.feature_extraction.text.CountVectorizer.html) de `scikit-learn`.\n",
    "\n",
    "Ceci est juste un petit exemple avec les documents de 110 à 130 (problèmes de ressources mémoire).\n"
   ]
  },
  {
   "cell_type": "code",
   "execution_count": 42,
   "metadata": {},
   "outputs": [
    {
     "data": {
      "text/html": [
       "<div>\n",
       "<style scoped>\n",
       "    .dataframe tbody tr th:only-of-type {\n",
       "        vertical-align: middle;\n",
       "    }\n",
       "\n",
       "    .dataframe tbody tr th {\n",
       "        vertical-align: top;\n",
       "    }\n",
       "\n",
       "    .dataframe thead th {\n",
       "        text-align: right;\n",
       "    }\n",
       "</style>\n",
       "<table border=\"1\" class=\"dataframe\">\n",
       "  <thead>\n",
       "    <tr style=\"text-align: right;\">\n",
       "      <th></th>\n",
       "      <th>term</th>\n",
       "      <th>weight</th>\n",
       "    </tr>\n",
       "  </thead>\n",
       "  <tbody>\n",
       "    <tr>\n",
       "      <th>1</th>\n",
       "      <td>000</td>\n",
       "      <td>1.50</td>\n",
       "    </tr>\n",
       "    <tr>\n",
       "      <th>1907</th>\n",
       "      <td>research</td>\n",
       "      <td>1.40</td>\n",
       "    </tr>\n",
       "    <tr>\n",
       "      <th>1538</th>\n",
       "      <td>mutations</td>\n",
       "      <td>1.15</td>\n",
       "    </tr>\n",
       "    <tr>\n",
       "      <th>331</th>\n",
       "      <td>al</td>\n",
       "      <td>1.05</td>\n",
       "    </tr>\n",
       "    <tr>\n",
       "      <th>1848</th>\n",
       "      <td>ras</td>\n",
       "      <td>1.05</td>\n",
       "    </tr>\n",
       "    <tr>\n",
       "      <th>2267</th>\n",
       "      <td>tropomyosin</td>\n",
       "      <td>1.05</td>\n",
       "    </tr>\n",
       "    <tr>\n",
       "      <th>754</th>\n",
       "      <td>de</td>\n",
       "      <td>1.05</td>\n",
       "    </tr>\n",
       "    <tr>\n",
       "      <th>2296</th>\n",
       "      <td>university</td>\n",
       "      <td>0.95</td>\n",
       "    </tr>\n",
       "    <tr>\n",
       "      <th>38</th>\n",
       "      <td>12</td>\n",
       "      <td>0.95</td>\n",
       "    </tr>\n",
       "    <tr>\n",
       "      <th>2230</th>\n",
       "      <td>tobacco</td>\n",
       "      <td>0.90</td>\n",
       "    </tr>\n",
       "    <tr>\n",
       "      <th>874</th>\n",
       "      <td>en</td>\n",
       "      <td>0.85</td>\n",
       "    </tr>\n",
       "    <tr>\n",
       "      <th>912</th>\n",
       "      <td>et</td>\n",
       "      <td>0.80</td>\n",
       "    </tr>\n",
       "    <tr>\n",
       "      <th>100</th>\n",
       "      <td>20</td>\n",
       "      <td>0.65</td>\n",
       "    </tr>\n",
       "    <tr>\n",
       "      <th>1130</th>\n",
       "      <td>health</td>\n",
       "      <td>0.65</td>\n",
       "    </tr>\n",
       "    <tr>\n",
       "      <th>746</th>\n",
       "      <td>date</td>\n",
       "      <td>0.60</td>\n",
       "    </tr>\n",
       "    <tr>\n",
       "      <th>628</th>\n",
       "      <td>company</td>\n",
       "      <td>0.60</td>\n",
       "    </tr>\n",
       "    <tr>\n",
       "      <th>27</th>\n",
       "      <td>100</td>\n",
       "      <td>0.60</td>\n",
       "    </tr>\n",
       "    <tr>\n",
       "      <th>1092</th>\n",
       "      <td>grant</td>\n",
       "      <td>0.60</td>\n",
       "    </tr>\n",
       "    <tr>\n",
       "      <th>1222</th>\n",
       "      <td>information</td>\n",
       "      <td>0.55</td>\n",
       "    </tr>\n",
       "    <tr>\n",
       "      <th>345</th>\n",
       "      <td>american</td>\n",
       "      <td>0.55</td>\n",
       "    </tr>\n",
       "  </tbody>\n",
       "</table>\n",
       "</div>"
      ],
      "text/plain": [
       "             term  weight\n",
       "1             000    1.50\n",
       "1907     research    1.40\n",
       "1538    mutations    1.15\n",
       "331            al    1.05\n",
       "1848          ras    1.05\n",
       "2267  tropomyosin    1.05\n",
       "754            de    1.05\n",
       "2296   university    0.95\n",
       "38             12    0.95\n",
       "2230      tobacco    0.90\n",
       "874            en    0.85\n",
       "912            et    0.80\n",
       "100            20    0.65\n",
       "1130       health    0.65\n",
       "746          date    0.60\n",
       "628       company    0.60\n",
       "27            100    0.60\n",
       "1092        grant    0.60\n",
       "1222  information    0.55\n",
       "345      american    0.55"
      ]
     },
     "execution_count": 42,
     "metadata": {},
     "output_type": "execute_result"
    }
   ],
   "source": [
    "import numpy as np\n",
    "from sklearn.feature_extraction.text import CountVectorizer\n",
    "vectorizer = CountVectorizer()\n",
    "vectorizer.fit(np.hstack(data['cleaned_text'][110:130]))\n",
    "\n",
    "X = vectorizer.transform(np.hstack(data['cleaned_text'][110:130])) # \n",
    "\n",
    "weights = np.asarray(X.mean(axis=0)).ravel().tolist()\n",
    "weights_df = pd.DataFrame({'term': vectorizer.get_feature_names(), 'weight': weights})\n",
    "weights_df.sort_values(by='weight', ascending=False).head(20)"
   ]
  },
  {
   "cell_type": "markdown",
   "metadata": {},
   "source": [
    "## 4.1 « *TF-IDF* » (*Term-Frequency* − *Inverse Document Frequency*)\n",
    "\n",
    "Ce que nous désirons faire avec [**TF-IDF**](https://fr.wikipedia.org/wiki/TF-IDF) est de mettre en application ce qui est décrit précédemment. Nous voulons pondérer la fréquence d’apparition d’un lemme dans un document par rapport à son apparition dans l’ensemble des documents du corpus. La fréquence de chaque lemme est donc pondérée à l’ensemble du corpus.\n",
    "\n",
    "En l’occurence, la métrique **TF-IDF** (*Term-Frequency* − *Inverse Document Frequency*) utilise comme indicateur de similarité l’*inverse document frequency* qui est l’inverse de la proportion de document qui contient le terme, à l'échelle logarithmique.\n",
    "\n",
    "Nous calculons donc le poids **TF-IDF** final attribué au n-gramme :\n",
    "\n",
    "$tfidf_{i,j} = tf_{i,j} × idf_{i}$\n",
    "\n",
    "Pour connaître les termes qui représentent le plus un document, nous allons utiliser la [fonction **TF-IDF**](https://scikit-learn.org/stable/modules/generated/sklearn.feature_extraction.text.TfidfVectorizer.html) de `scikit-learn`.\n",
    "\n",
    "\n",
    "**Note :** nous traitons des *n-grames*, donc utilisez le paramètre [`ngram_range`](https://scikit-learn.org/stable/modules/generated/sklearn.feature_extraction.text.TfidfVectorizer.html) de la classe [`TfidfVectorizer`](https://scikit-learn.org/stable/modules/generated/sklearn.feature_extraction.text.TfidfVectorizer.html) lors de son instanciation.\n",
    "\n",
    "**Note :** pour transformer vos vecteurs résultats (obtenus par appel à `fit_transform`) en des données utilisables dans un `DataFrame`, vous devez utiliser `vectors.toarray()`. À la création de votre `DataFrame`, nommez les colonnes avec le nom des lemmes utilisés (ce sont les *features* de l’opération, vous pouvez les récupérer avec `get_feature_names()`).\n",
    "\n",
    "**Note :** comment on renverse une matrice ? En demandant sa transposée. Pour la transposée d’un `pd.DataFrame`, on accède simplement l’attribut `T` du `pd.DataFrame`."
   ]
  },
  {
   "cell_type": "code",
   "execution_count": 43,
   "metadata": {},
   "outputs": [
    {
     "data": {
      "text/html": [
       "<div>\n",
       "<style scoped>\n",
       "    .dataframe tbody tr th:only-of-type {\n",
       "        vertical-align: middle;\n",
       "    }\n",
       "\n",
       "    .dataframe tbody tr th {\n",
       "        vertical-align: top;\n",
       "    }\n",
       "\n",
       "    .dataframe thead th {\n",
       "        text-align: right;\n",
       "    }\n",
       "</style>\n",
       "<table border=\"1\" class=\"dataframe\">\n",
       "  <thead>\n",
       "    <tr style=\"text-align: right;\">\n",
       "      <th></th>\n",
       "      <th>term</th>\n",
       "      <th>weight</th>\n",
       "    </tr>\n",
       "  </thead>\n",
       "  <tbody>\n",
       "    <tr>\n",
       "      <th>769881</th>\n",
       "      <td>smoking</td>\n",
       "      <td>0.005039</td>\n",
       "    </tr>\n",
       "    <tr>\n",
       "      <th>841553</th>\n",
       "      <td>tobacco</td>\n",
       "      <td>0.004886</td>\n",
       "    </tr>\n",
       "    <tr>\n",
       "      <th>260438</th>\n",
       "      <td>date</td>\n",
       "      <td>0.004768</td>\n",
       "    </tr>\n",
       "    <tr>\n",
       "      <th>799874</th>\n",
       "      <td>subject</td>\n",
       "      <td>0.004389</td>\n",
       "    </tr>\n",
       "    <tr>\n",
       "      <th>560976</th>\n",
       "      <td>new</td>\n",
       "      <td>0.004160</td>\n",
       "    </tr>\n",
       "    <tr>\n",
       "      <th>704159</th>\n",
       "      <td>research</td>\n",
       "      <td>0.004134</td>\n",
       "    </tr>\n",
       "    <tr>\n",
       "      <th>547779</th>\n",
       "      <td>mr</td>\n",
       "      <td>0.003694</td>\n",
       "    </tr>\n",
       "    <tr>\n",
       "      <th>631890</th>\n",
       "      <td>pm</td>\n",
       "      <td>0.003608</td>\n",
       "    </tr>\n",
       "    <tr>\n",
       "      <th>298727</th>\n",
       "      <td>dr</td>\n",
       "      <td>0.003566</td>\n",
       "    </tr>\n",
       "    <tr>\n",
       "      <th>205605</th>\n",
       "      <td>cigarette</td>\n",
       "      <td>0.003498</td>\n",
       "    </tr>\n",
       "  </tbody>\n",
       "</table>\n",
       "</div>"
      ],
      "text/plain": [
       "             term    weight\n",
       "769881    smoking  0.005039\n",
       "841553    tobacco  0.004886\n",
       "260438       date  0.004768\n",
       "799874    subject  0.004389\n",
       "560976        new  0.004160\n",
       "704159   research  0.004134\n",
       "547779         mr  0.003694\n",
       "631890         pm  0.003608\n",
       "298727         dr  0.003566\n",
       "205605  cigarette  0.003498"
      ]
     },
     "execution_count": 43,
     "metadata": {},
     "output_type": "execute_result"
    }
   ],
   "source": [
    "import numpy as np\n",
    "from sklearn.feature_extraction.text import TfidfVectorizer\n",
    "\n",
    "vectorizer = TfidfVectorizer(ngram_range=(1,10))\n",
    "vectors = vectorizer.fit_transform(np.hstack(data['cleaned_text']))#[110:130]\n",
    "\n",
    "weights = np.asarray(vectors.mean(axis=0)).ravel().tolist()\n",
    "weights_df = pd.DataFrame({'term': vectorizer.get_feature_names(), 'weight': weights})\n",
    "weights_df.sort_values(by='weight', ascending=False).head(10)"
   ]
  },
  {
   "cell_type": "markdown",
   "metadata": {},
   "source": [
    "### 4. 2 Plongements de mots (Word Embeddings)\n",
    "\n",
    "La dernière répresentation des mots que nous analyserons est la répresentation **word embeddings**. \n",
    "Les **plongements de mots** (ou *word embedding*) est une technique d'apprentissage et de représentation de mots d’un texte. Elle consiste à représenter les mots sous forme de vecteurs de nombres réels qui ont la particularité d’être proches (dans leurs espaces vectoriels) si leurs contextes sont similaires.\n",
    "\n",
    "Ils peuvent être générés de plusieurs façons, comme les [réseaux de neuronnes](https://www.tensorflow.org/tutorials/text/word_embeddings) ou les matrices de [cooccurences](https://fr.wikipedia.org/wiki/Cooccurrence), des modèles probabilistes (TF-IDF vecteurs), etc.\n",
    "\n",
    "Cette nouvelle représentation a ceci de particulier que les mots apparaissant dans des contextes similaires possèdent des vecteurs correspondants qui sont relativement proches. Par exemple, on pourrait s'attendre à ce que les mots « chien » et « chat » soient représentés par des vecteurs relativement peu distants dans l'espace vectoriel où sont définis ces vecteurs. Cette technique est basée sur l'hypothèse qui veut que les mots apparaissant dans des contextes similaires ont des significations apparentées. \n",
    "\n",
    "<figure>\n",
    "    <center>\n",
    "    <img src=\"images/we.png\" width=\"300\" height=\"400\">\n",
    "    <figcaption>Source: <a href=\"https://unbabel.com/blog/fr/lia-vous-parle-mais-comprend-elle-ce-quelle-dit/\"> link</a></figcaption>\n",
    "    </center>\n",
    "</figure>\n",
    "\n",
    "Différents  plongements (embeddings) de mots qui ont été entrainées sur de grands ensembles de données et disponibles :\n",
    "\n",
    "*  [Collobert & Weston](http://www.jmlr.org/papers/volume12/collobert11a/collobert11a.pdf) https://ronan.collobert.com/senna/\n",
    "* [Word2Vec Google News](https://code.google.com/archive/p/word2vec/)\n",
    "* [GloVe](https://nlp.stanford.edu/projects/glove/)\n",
    "* [FastText](https://github.com/facebookresearch/fastText)\n",
    "\n",
    "\n",
    "Le word embedding d'un mot peut être récupérée en utilisant la bibliothèque **spaCy** (cette bibliothèque utilise le modèle [GloVe](https://nlp.stanford.edu/projects/glove/)).\n"
   ]
  },
  {
   "cell_type": "code",
   "execution_count": 44,
   "metadata": {},
   "outputs": [
    {
     "data": {
      "text/plain": [
       "(cigarretes,\n",
       " (300,),\n",
       " array([-2.2954e-01, -2.8187e-01,  5.9479e-02,  4.7612e-02, -2.3460e-01,\n",
       "         2.0453e-01,  9.1744e-04, -6.6969e-01,  4.5903e-01, -3.7258e-01,\n",
       "         1.1062e-01,  6.1489e-01, -1.0346e+00, -2.1351e-01,  4.2290e-01,\n",
       "         6.3530e-03, -1.6024e-01, -6.3138e-02, -3.3088e-02,  3.5068e-01,\n",
       "         1.0806e-01,  5.8254e-01, -1.9157e-01,  6.2607e-02, -2.8079e-01,\n",
       "        -3.1789e-02, -3.7105e-01, -1.6022e-01,  4.1643e-01,  5.6944e-01,\n",
       "        -2.1847e-02, -3.7103e-01, -3.6335e-01,  2.3406e-01, -2.7031e-01,\n",
       "         6.7263e-01,  6.9996e-01,  1.9659e-01,  6.7637e-02,  2.2632e-01,\n",
       "        -5.4569e-01,  5.6867e-01,  8.0658e-01, -1.8067e-01,  2.6330e-01,\n",
       "         2.0911e-01,  7.5932e-02, -8.0514e-01, -4.2663e-01, -7.2892e-03,\n",
       "        -7.9666e-01,  1.3726e-01,  1.0944e-01,  2.7195e-01,  4.6507e-01,\n",
       "        -5.5523e-01,  2.9686e-01, -1.8384e-01, -3.4570e-02, -1.4615e-01,\n",
       "         5.7205e-02, -6.2007e-01,  2.5968e-01, -3.0072e-01,  4.4997e-01,\n",
       "        -1.7152e-01,  5.2898e-01, -1.4147e-01,  6.8168e-01, -5.0405e-01,\n",
       "        -1.3820e-01, -5.4208e-01,  5.5080e-01, -7.3120e-03,  3.9574e-01,\n",
       "        -1.6507e-01,  3.9083e-01, -1.6201e-01,  5.9017e-01,  4.3429e-01,\n",
       "         3.9502e-01,  1.8383e-01,  2.1236e-01,  1.4820e-01,  2.2285e-01,\n",
       "         1.4967e-01,  1.0288e+00,  1.1472e-02, -1.1710e-01,  1.7218e-01,\n",
       "         9.8218e-02,  6.6225e-02,  3.3712e-01, -1.6582e-01, -1.5325e-01,\n",
       "         3.0420e-01,  6.1259e-01, -3.9492e-01, -2.4102e-01, -2.3716e-01,\n",
       "        -4.0908e-01,  3.7862e-01,  1.5622e-01,  2.2392e-01,  2.1679e-01,\n",
       "        -1.2665e+00,  3.7420e-01,  7.2773e-02, -3.5318e-01, -3.2299e-01,\n",
       "        -3.8195e-01, -7.7188e-01, -7.8050e-01, -4.4436e-01,  3.9012e-01,\n",
       "        -9.7238e-02,  1.7942e-01, -3.0876e-01, -6.5433e-01,  3.6308e-01,\n",
       "         1.8748e-01,  1.1174e-01, -1.3800e-01, -5.1469e-01,  1.3198e-01,\n",
       "        -3.0450e-02, -3.2330e-01,  5.3297e-01,  6.1751e-01,  1.5551e-01,\n",
       "         8.0361e-01, -3.8709e-01, -6.5653e-02, -5.5635e-01,  1.6555e-01,\n",
       "         1.2453e-01,  1.6702e-01,  7.1298e-01, -5.2680e-01, -7.2371e-02,\n",
       "        -9.3487e-01,  5.5024e-01,  7.7168e-01,  5.1728e-01, -4.9967e-01,\n",
       "        -7.6602e-02, -8.9931e-01,  4.1974e-01,  4.8412e-01, -4.1339e-01,\n",
       "        -2.3624e-02, -4.1921e-01,  1.3295e-01,  1.3210e-01,  3.1217e-01,\n",
       "         2.8446e-01,  4.4730e-01,  2.3056e-02, -1.7169e-01,  5.0367e-01,\n",
       "        -5.3329e-01, -2.8228e-02, -3.6689e-01,  3.0789e-01, -1.2966e-01,\n",
       "        -1.2724e-01,  5.0924e-02, -2.3631e-01,  1.0024e-01,  1.6017e-01,\n",
       "         2.2771e-01, -4.0590e-01,  4.6176e-01,  6.4871e-02, -1.6584e-01,\n",
       "         1.8210e-01, -1.1036e-01, -4.9500e-01, -2.5731e-01, -4.9602e-02,\n",
       "        -1.9230e-01, -4.1835e-01, -1.2088e-01,  1.8226e-01,  1.5419e-01,\n",
       "         3.2881e-01, -2.8081e-01, -5.2534e-02,  1.5150e-01,  5.5247e-01,\n",
       "         4.0341e-01,  1.0257e-01, -1.2309e-01,  1.6412e-01,  6.4834e-01,\n",
       "         5.6848e-01, -4.1881e-01,  3.9094e-01,  2.0256e-02, -6.5071e-01,\n",
       "         1.1773e-01,  9.6561e-04, -2.1986e-01,  1.8847e-01, -3.7137e-01,\n",
       "         7.9975e-02, -1.6221e-01, -1.5180e-01, -4.4897e-01, -1.6927e-01,\n",
       "         9.9980e-02, -4.8707e-01, -5.4161e-01, -4.3580e-01,  1.0156e-02,\n",
       "        -4.2516e-01,  8.1497e-02,  1.4649e-01,  5.5488e-01, -6.4314e-01,\n",
       "        -3.5453e-01, -8.1046e-02, -1.3589e-02, -3.9479e-01, -7.7203e-03,\n",
       "         1.1362e-01, -1.1774e+00, -2.0255e-01,  2.6740e-01,  3.7923e-01,\n",
       "        -1.6326e-01, -1.0911e-01,  3.8730e-03, -3.6416e-01, -1.7278e-01,\n",
       "        -8.0337e-02,  1.5043e-01, -2.0066e-01,  8.4375e-01,  5.8052e-01,\n",
       "         2.8643e-01,  5.8592e-03, -6.4038e-02, -3.6039e-01, -7.5029e-01,\n",
       "         3.3309e-01, -8.0375e-04, -2.4647e-01, -5.1914e-01,  3.3354e-01,\n",
       "         2.1068e-01, -9.0918e-01,  5.1197e-01, -2.6158e-01,  4.6701e-02,\n",
       "         1.2741e-02, -6.2901e-01, -5.1269e-02, -7.5761e-01,  1.4017e-01,\n",
       "        -2.4318e-01, -2.3710e-01, -8.7533e-01,  8.0166e-02,  2.7205e-01,\n",
       "         3.3460e-01, -2.3026e-01,  5.4450e-01,  4.2918e-02, -2.8165e-01,\n",
       "        -8.6964e-02, -1.3964e-01,  5.9499e-02, -1.7967e-02,  7.2381e-01,\n",
       "        -3.8237e-02, -1.4530e-01,  1.5979e-01,  3.8086e-01, -2.1924e-01,\n",
       "        -2.3640e-01, -2.6283e-01,  6.1439e-01,  4.4808e-01, -1.4537e-01,\n",
       "         9.2998e-01,  1.3155e+00, -2.6015e-01,  7.3594e-01,  4.6240e-01,\n",
       "        -2.7235e-01, -1.6843e-01, -8.9037e-01,  2.4944e-01,  1.9224e-02,\n",
       "        -1.8600e-02,  2.6793e-01,  2.4321e-01,  1.2094e-01,  1.0789e+00],\n",
       "       dtype=float32))"
      ]
     },
     "execution_count": 44,
     "metadata": {},
     "output_type": "execute_result"
    }
   ],
   "source": [
    "token = nlp(\"cigarretes\")\n",
    "token, token.vector.shape, token.vector"
   ]
  },
  {
   "cell_type": "markdown",
   "metadata": {},
   "source": [
    "**spaCy** est capable de comparer deux mots et de faire une prédiction de leur similitude. La prédiction de la similarité est utile pour créer des systèmes de recommandation ou pour signaler les doublons. Par exemple, vous pouvez suggérer un contenu similaire à ce que l'utilisateur recherche actuellement ou étiqueter un ticket d'assistance comme doublon s'il est très similaire à un ticket déjà existant.\n",
    "\n",
    "Chaque **Doc**, **Span** et **Token** est livré avec une **.similarity()** méthode qui vous permet de le comparer avec un autre objet et de déterminer la similitude. Bien sûr, la similitude est toujours subjective - si «chien» et «chat» sont similaires dépend vraiment de la façon dont vous le regardez. Le modèle de similarité de **spaCy** suppose généralement une définition assez générale de la similitude.\n",
    "\n",
    "Généralement, ene fois que nous aurons des vecteurs du texte donné, pour calculer la similitude entre les vecteurs générés, des méthodes statistiques pour la similitude vectorielle peuvent être utilisées. Ces techniques sont la *similitude cosinus*, la *distance euclidienne*, la *distance de Jaccard*, la distance *word mover*. La *similitude cosinus* est la technique qui est largement utilisée pour la similitude de texte (**spaCy** utilise cette similitude).\n"
   ]
  },
  {
   "cell_type": "code",
   "execution_count": 45,
   "metadata": {},
   "outputs": [
    {
     "name": "stdout",
     "output_type": "stream",
     "text": [
      "cigarettes ~ cigarettes : 1.0\n",
      "cigarettes ~ health : 0.28587997521776504\n",
      "cigarettes ~ cancer : 0.3012196440759192\n",
      "cigarettes ~ capitalism : 0.10472264863981527\n",
      "cigarettes ~ doctor : 0.21723711004349328\n",
      "cigarettes ~ nurse : 0.0906844532117962\n",
      "cigarettes ~ hospital : 0.16957132100247158\n",
      "cigarettes ~ money : 0.32551857206247076\n",
      "cigarettes ~ death : 0.19340284215840023\n"
     ]
    }
   ],
   "source": [
    "token = nlp('cigarettes')\n",
    "for word in ['cigarettes', 'health', 'cancer', 'capitalism', 'doctor', 'nurse', 'hospital', 'money', 'death']:\n",
    "    word = nlp(word)\n",
    "    print('cigarettes', '~', word, ':', token.similarity(word))"
   ]
  },
  {
   "cell_type": "markdown",
   "metadata": {},
   "source": [
    "Pour voir l'exemple de la figure présentée précédemment, nous calculons la distance entre tous les mots * spaCy * pour trouver les mots les plus similaires pour le calcul: **king − man + woman ≈ queen**"
   ]
  },
  {
   "cell_type": "code",
   "execution_count": 46,
   "metadata": {},
   "outputs": [
    {
     "name": "stdout",
     "output_type": "stream",
     "text": [
      "man - woman + queen= ['Queen', 'QUEEN', 'queen', 'King', 'KING']\n"
     ]
    }
   ],
   "source": [
    "from scipy import spatial\n",
    " \n",
    "cosine_similarity = lambda x, y: 1 - spatial.distance.cosine(x, y)\n",
    " \n",
    "man = nlp.vocab['man'].vector\n",
    "woman = nlp.vocab['woman'].vector\n",
    "queen = nlp.vocab['queen'].vector\n",
    "king = nlp.vocab['king'].vector\n",
    " \n",
    "# Nous devons maintenant trouver le vecteur le plus proche du vocabulaire du résultat de \"man\" - \"woman\" + \"queen\"\n",
    "maybe_king = man - woman + queen\n",
    "computed_similarities = []\n",
    " \n",
    "for word in nlp.vocab:\n",
    "    # Ignorer les mots sans vecteurs\n",
    "    if not word.has_vector:\n",
    "        continue\n",
    "\n",
    "    similarity = cosine_similarity(maybe_king, word.vector)\n",
    "    computed_similarities.append((word, similarity))\n",
    "\n",
    "computed_similarities = sorted(computed_similarities, key=lambda item: -item[1])\n",
    "print('man - woman + queen=', [w[0].text for w in computed_similarities[:5]])"
   ]
  },
  {
   "cell_type": "markdown",
   "metadata": {},
   "source": [
    "# 5. Preparation pour apprentissage automatique (machine learning) et apprentissage profond (deep learning)"
   ]
  },
  {
   "cell_type": "markdown",
   "metadata": {},
   "source": [
    "### 5.1 Diviser les jeux de données \n",
    "Afin d'entraîner des modèles pour apprentissage automatique et évaluer la performance de ses modèles avec chaque répresentation de mots, nous allons diviser les jeux de données en : entraînement, validation et test.\n",
    "\n",
    "Afin d'évaluer correctement la performance de chaque modèle, il est très important que les données d'entraînement et de test soient différentes. La bibliothèque <b>sklearn</b> a la fonction <a href=\"https://scikit-learn.org/stable/modules/generated/sklearn.model_selection.train_test_split.html\"><i>train_test_split</i></a> qui divise un jeux de données. Le parametre <i>test_size</i> défini la taille du test (pourcentage) dans les jeux de données.\n",
    "\n",
    "Pour comprendre pourquoi nous devons diviser les données de cette manière, vous pouvez regarder Andrew Ng expliquer [ici](https://www.youtube.com/watch?v=1waHlpKiNyY). Ng est professeur à l'Université de Stanford et pionnier de l'éducation en ligne, Ng a cofondé [Coursera](https://www.coursera.org/learn/machine-learning) et [deeplearning.ai](https://www.deeplearning.ai/). Il a mené avec succès de nombreux efforts pour «démocratiser l'apprentissage profond» en enseignant plus de 2,5 millions d'étudiants grâce à ses cours en ligne. Il est l'un des informaticiens les plus connus et les plus influents au monde.\n",
    "\n",
    "Dans notre cas, nous irons fournir les phrases et les classes pour chaque phrase et la taille du jeu de données de test. Pour l'instant, on a pas besoin de donees de validation. On va voir de ca plus tard."
   ]
  },
  {
   "cell_type": "markdown",
   "metadata": {},
   "source": [
    "Pour plus de simplicité, nous allons travailler uniquement avec des données pour entraînement et test."
   ]
  },
  {
   "cell_type": "code",
   "execution_count": 47,
   "metadata": {},
   "outputs": [
    {
     "name": "stdout",
     "output_type": "stream",
     "text": [
      "Train: 622 texts Test: 70 texts\n"
     ]
    }
   ],
   "source": [
    "from sklearn.model_selection import train_test_split\n",
    "\n",
    "# Nous utilisons ici la colonne qui n'a pas été prétraitée.\n",
    "X_train, X_test, y_train, y_test = train_test_split(data['text'], data['label'], test_size=0.1)\n",
    "print('Train:', len(X_train), 'texts', 'Test:', len(X_test), 'texts')"
   ]
  },
  {
   "cell_type": "markdown",
   "metadata": {},
   "source": [
    "# 6. Apprentissage automatique (machine learning)"
   ]
  },
  {
   "cell_type": "markdown",
   "metadata": {},
   "source": [
    "L'objectif de la catégorisation de textes est de pouvoir associer automatiquement des documents à des classes (catégories, étiquettes, index) prédéfinies. Nous nous plaçons dans le cadre de l'apprentissage automatique supervisé. \n",
    "\n"
   ]
  },
  {
   "cell_type": "markdown",
   "metadata": {},
   "source": [
    "### 5.2 Approaches de classification\n",
    "\n",
    "La classification naïve bayésienne est un type de classification bayésienne probabiliste simple basée sur le théorème de Bayes avec une forte indépendance des hypothèses. Elle met en œuvre un classifieur bayésien naïf, ou classifieur naïf de Bayes, appartenant à la famille des classifieurs linéaires. \n",
    "\n",
    "Un classifieur bayésien naïf suppose que l'existence d'une caractéristique pour une classe, est indépendante de l'existence d'autres caractéristiques. Un fruit peut être considéré comme une pomme s'il est rouge, arrondi, et fait une dizaine de centimètres. Même si ces caractéristiques sont liées dans la réalité, un classifieur bayésien naïf déterminera que le fruit est une pomme en considérant indépendamment ces caractéristiques de couleur, de forme et de taille. \n",
    "\n",
    "Le modèle probabiliste de cette approache est le modèle conditionnel $P(X | x_1,...,x_n)$, où $X$ est la variable « de classe » (celle qui indique si un individu appartient à une classe donnée) conditionnée par plusieurs variables caractéristiques $x_i$ (par exemple l’aile, le bec et cancane).\n",
    "\n",
    "Le théorème de Bayes s’énonce avec nos notations de la manière suivante :\n",
    "\n",
    "<center>\n",
    "$P(X|x_1, ..., x_n) = \\frac{P(x_1, ..., x_n | X)P(X)}{P(x_1, ..., x_n)}$\n",
    "</center>\n",
    "\n",
    "L'avantage du classifieur bayésien naïf est qu'il requiert relativement peu de données d'entraînement pour estimer les paramètres nécessaires à la classification, à savoir moyennes et variances des différentes variables.\n",
    "\n",
    "La bibliothèque sklearn fournit une classe [MultinomialNB](https://scikit-learn.org/stable/modules/generated/sklearn.naive_bayes.MultinomialNB.html) qui nous permet d'entraîner et tester un modèle à partir d'un jeux de données d'entraînement.\n",
    "\n",
    "Tout d'abord, nous représentons les documents en utilisant TF-IDF."
   ]
  },
  {
   "cell_type": "code",
   "execution_count": 48,
   "metadata": {},
   "outputs": [],
   "source": [
    "from sklearn.feature_extraction.text import TfidfVectorizer\n",
    "\n",
    "vectorizer = TfidfVectorizer()\n",
    "\n",
    "X_train_tfidf = vectorizer.fit_transform(X_train) # Nous laissons le TF-IDF voir les données d'entraînement\n",
    "\n",
    "X_test_tfidf = vectorizer.transform(X_test) # Nous transformons également les données de test"
   ]
  },
  {
   "cell_type": "markdown",
   "metadata": {},
   "source": [
    "Ensuite, nous utilisons les données d'entraînement pour entraîner le modèle."
   ]
  },
  {
   "cell_type": "code",
   "execution_count": 49,
   "metadata": {},
   "outputs": [],
   "source": [
    "from sklearn.naive_bayes import MultinomialNB\n",
    "\n",
    "clf = MultinomialNB()\n",
    "\n",
    "_ = clf.fit(X_train_tfidf, y_train) # Nous entrainons le modèle avec la méthode `fit`"
   ]
  },
  {
   "cell_type": "markdown",
   "metadata": {},
   "source": [
    "Après avoir entraîné notre modèle, nous pouvons faire la prediction des classes des messages du jeux de données de test.\n",
    " \n",
    "## Analyse d'erreurs\n",
    "\n",
    "Le taux d'erreur de classification donne une évaluation des performances pour toutes les classes. Mais comme les classes ne sont pas également réparties, elles peuvent ne pas être également bien modélisées. Afin d'avoir une meilleure idée des performances du classifieur, des métriques détaillées doivent être utilisées:\n",
    "\n",
    "* [metrics.classification_report](http://scikit-learn.org/stable/modules/generated/sklearn.metrics.classification_report.html) fournit une analyse détaillée par classe: la précision (parmi tous les exemples classés en classe X, combien sont réellement de la classeX) et le rappel (parmi tous les exemples qui sont de la classe X, combien sont classés en classe X) et le F-Score qui est une moyenne harmonique pondérée de la précision et du rappel.\n",
    "* [metrics.confusion_matrix](http://scikit-learn.org/stable/modules/generated/sklearn.metrics.confusion_matrix.html) qui donnent les confusions entre les classes.\n",
    "\n",
    "F1-score = 2 x $\\frac{précision\\ x\\ rappel}{précision\\ +\\ rappel}$\n",
    "\n",
    " - précision : la proportion d'identifications positives était effectivement correcte.\n",
    " - rappel : la proportion de résultats positifs réels a été identifiée correctement. \n",
    "\n",
    "\n",
    "**<span style=\"color:red\">To do</span>**:\n",
    "\n",
    "> * Rapportez le `classification_report` pour votre classificateur. Quelles classes ont les meilleurs scores ? Pourquoi ?\n",
    "> * Rapportez la `confusion_matrix` pour votre classificateur. Quelles classes sont les plus confuses ? Pourquoi ?"
   ]
  },
  {
   "cell_type": "code",
   "execution_count": 50,
   "metadata": {},
   "outputs": [
    {
     "name": "stdout",
     "output_type": "stream",
     "text": [
      "               precision    recall  f1-score   support\n",
      "\n",
      "Advertisement       0.00      0.00      0.00         3\n",
      "        Email       0.75      0.60      0.67        10\n",
      "         Form       0.67      0.57      0.62         7\n",
      "       Letter       0.29      0.56      0.38         9\n",
      "         Memo       0.44      0.94      0.60        18\n",
      "         News       0.00      0.00      0.00         3\n",
      "         Note       0.00      0.00      0.00         6\n",
      "       Report       0.00      0.00      0.00         5\n",
      "       Resume       0.00      0.00      0.00         4\n",
      "   Scientific       0.00      0.00      0.00         5\n",
      "\n",
      "     accuracy                           0.46        70\n",
      "    macro avg       0.21      0.27      0.23        70\n",
      " weighted avg       0.32      0.46      0.36        70\n",
      "\n"
     ]
    },
    {
     "name": "stderr",
     "output_type": "stream",
     "text": [
      "/opt/conda/lib/python3.7/site-packages/sklearn/metrics/_classification.py:1245: UndefinedMetricWarning: Precision and F-score are ill-defined and being set to 0.0 in labels with no predicted samples. Use `zero_division` parameter to control this behavior.\n",
      "  _warn_prf(average, modifier, msg_start, len(result))\n",
      "/opt/conda/lib/python3.7/site-packages/sklearn/metrics/_classification.py:1245: UndefinedMetricWarning: Precision and F-score are ill-defined and being set to 0.0 in labels with no predicted samples. Use `zero_division` parameter to control this behavior.\n",
      "  _warn_prf(average, modifier, msg_start, len(result))\n",
      "/opt/conda/lib/python3.7/site-packages/sklearn/metrics/_classification.py:1245: UndefinedMetricWarning: Precision and F-score are ill-defined and being set to 0.0 in labels with no predicted samples. Use `zero_division` parameter to control this behavior.\n",
      "  _warn_prf(average, modifier, msg_start, len(result))\n"
     ]
    }
   ],
   "source": [
    "from sklearn.metrics import classification_report\n",
    "from sklearn.metrics import accuracy_score\n",
    "\n",
    "y_pred = clf.predict(X_test_tfidf)\n",
    "\n",
    "print(classification_report(y_test, y_pred))"
   ]
  },
  {
   "cell_type": "code",
   "execution_count": 51,
   "metadata": {},
   "outputs": [
    {
     "data": {
      "image/png": "[encoded data removed]",
      "text/plain": [
       "<Figure size 720x720 with 2 Axes>"
      ]
     },
     "metadata": {
      "needs_background": "light"
     },
     "output_type": "display_data"
    }
   ],
   "source": [
    "from sklearn.metrics import confusion_matrix\n",
    "import seaborn as sns\n",
    "import matplotlib.pyplot as plt\n",
    "plt.rcParams[\"figure.figsize\"] = (10,10)\n",
    "plt.rcParams.update({'font.size': 9})\n",
    "\n",
    "from sklearn.metrics import plot_confusion_matrix\n",
    "\n",
    "plot_confusion_matrix(clf, X_test_tfidf, y_test)  \n",
    "plt.show() "
   ]
  },
  {
   "cell_type": "markdown",
   "metadata": {},
   "source": [
    "Les machines à vecteurs de support (en anglais support vector machine, SVM) sont un ensemble de techniques d'apprentissage supervisé destinées à résoudre des problèmes de discrimination et de régression. Ces techniques reposent sur deux idées clés : la notion de marge maximale et la notion de fonction noyau.\n",
    "\n",
    "La <b>marge</b> est la distance entre la frontière de séparation et les échantillons les plus proches. Dans les SVM, la frontière de séparation est choisie comme celle qui maximise la marge.\n",
    "\n",
    "<figure>\n",
    "    <center>\n",
    "    <img src=\"images/marge.png\" width=\"400\" height=\"400\">\n",
    "    <figcaption>Source: <a href=\"https://fr.wikipedia.org/wiki/Machine_%C3%A0_vecteurs_de_support\"> link</a></figcaption>\n",
    "    </center>\n",
    "</figure>\n",
    "\n",
    "La deuxième idée clé des SVM est de transformer l'espace de représentation des données d'entrées en un espace de plus grande dimension, dans lequel il est probable qu'il existe une séparation linéaire. Les fonctions <b>noyau</b> permettent de transformer un produit scalaire dans un espace de grande dimension, ce qui est coûteux, en une simple évaluation ponctuelle d'une fonction. Des noyaux usuels employés avec les SVM sont : le noyau polynomial et le noyau gaussien.\n",
    "\n",
    "<figure>\n",
    "    <center>\n",
    "    <img src=\"images/noyau.png\" width=\"400\" height=\"400\">\n",
    "    <figcaption>Source: <a href=\"https://fr.wikipedia.org/wiki/Machine_%C3%A0_vecteurs_de_support\"> link</a></figcaption>\n",
    "    </center>\n",
    "</figure>\n",
    "\n",
    "La bibliothèque sklearn propose un module pour utiliser de [SVMs](https://scikit-learn.org/stable/modules/svm.html). Si vous souhaitez utiliser SVM avec d'autres noyaux, utilisez [svm.SVC()](https://scikit-learn.org/stable/modules/generated/sklearn.svm.SVC.html)."
   ]
  },
  {
   "cell_type": "markdown",
   "metadata": {},
   "source": [
    "**<span style=\"color:red\">To do</span>**:\n",
    "\n",
    "> * Entraînez, testez et faites l'évaluation du modèle SVM linéaire.\n"
   ]
  },
  {
   "cell_type": "code",
   "execution_count": 52,
   "metadata": {},
   "outputs": [],
   "source": [
    "from sklearn.svm import LinearSVC\n",
    "\n",
    "# YOUR CODE HERE\n",
    "\n",
    "clf = LinearSVC()\n",
    "\n",
    "_ = clf.fit(X_train_tfidf, y_train)"
   ]
  },
  {
   "cell_type": "code",
   "execution_count": 53,
   "metadata": {},
   "outputs": [
    {
     "name": "stdout",
     "output_type": "stream",
     "text": [
      "               precision    recall  f1-score   support\n",
      "\n",
      "Advertisement       1.00      0.67      0.80         3\n",
      "        Email       0.89      0.80      0.84        10\n",
      "         Form       0.58      1.00      0.74         7\n",
      "       Letter       0.73      0.89      0.80         9\n",
      "         Memo       0.73      0.89      0.80        18\n",
      "         News       1.00      1.00      1.00         3\n",
      "         Note       0.00      0.00      0.00         6\n",
      "       Report       1.00      0.20      0.33         5\n",
      "       Resume       1.00      1.00      1.00         4\n",
      "   Scientific       0.67      0.80      0.73         5\n",
      "\n",
      "     accuracy                           0.76        70\n",
      "    macro avg       0.76      0.72      0.70        70\n",
      " weighted avg       0.73      0.76      0.71        70\n",
      "\n"
     ]
    },
    {
     "name": "stderr",
     "output_type": "stream",
     "text": [
      "/opt/conda/lib/python3.7/site-packages/sklearn/metrics/_classification.py:1245: UndefinedMetricWarning: Precision and F-score are ill-defined and being set to 0.0 in labels with no predicted samples. Use `zero_division` parameter to control this behavior.\n",
      "  _warn_prf(average, modifier, msg_start, len(result))\n",
      "/opt/conda/lib/python3.7/site-packages/sklearn/metrics/_classification.py:1245: UndefinedMetricWarning: Precision and F-score are ill-defined and being set to 0.0 in labels with no predicted samples. Use `zero_division` parameter to control this behavior.\n",
      "  _warn_prf(average, modifier, msg_start, len(result))\n",
      "/opt/conda/lib/python3.7/site-packages/sklearn/metrics/_classification.py:1245: UndefinedMetricWarning: Precision and F-score are ill-defined and being set to 0.0 in labels with no predicted samples. Use `zero_division` parameter to control this behavior.\n",
      "  _warn_prf(average, modifier, msg_start, len(result))\n"
     ]
    }
   ],
   "source": [
    "from sklearn.metrics import classification_report\n",
    "from sklearn.metrics import accuracy_score\n",
    "\n",
    "# YOUR CODE HERE\n",
    "y_pred = clf.predict(X_test_tfidf)\n",
    "\n",
    "print(classification_report(y_test, y_pred))"
   ]
  },
  {
   "cell_type": "code",
   "execution_count": 54,
   "metadata": {},
   "outputs": [
    {
     "data": {
      "image/png": "[encoded data removed]",
      "text/plain": [
       "<Figure size 720x720 with 2 Axes>"
      ]
     },
     "metadata": {
      "needs_background": "light"
     },
     "output_type": "display_data"
    }
   ],
   "source": [
    "from sklearn.metrics import confusion_matrix\n",
    "import seaborn as sns\n",
    "import matplotlib.pyplot as plt\n",
    "\n",
    "# YOUR CODE HERE\n",
    "plt.rcParams[\"figure.figsize\"] = (10,10)\n",
    "plt.rcParams.update({'font.size': 9})\n",
    "\n",
    "from sklearn.metrics import plot_confusion_matrix\n",
    "\n",
    "plot_confusion_matrix(clf, X_test_tfidf, y_test)  \n",
    "plt.show() "
   ]
  },
  {
   "cell_type": "markdown",
   "metadata": {},
   "source": [
    "**<span style=\"color:red\">To do</span>**:\n",
    "\n",
    "> * Utilisez les autres méthodes de prétraitement (avec lemmatisation, avec racinisation, etc. `cleaned_text`, `cleaned_text_with_lemmatisation`, `cleaned_text_with_stemming`) et comparez les résultats de ces trois modèles. Vous devez réécrire le code à partir de \"5.1 Diviser les jeux de données\" et changer la colonne de données.\n"
   ]
  },
  {
   "cell_type": "code",
   "execution_count": 55,
   "metadata": {},
   "outputs": [],
   "source": [
    "# YOUR CODE HERE"
   ]
  },
  {
   "cell_type": "code",
   "execution_count": 56,
   "metadata": {},
   "outputs": [],
   "source": [
    "# YOUR CODE HERE"
   ]
  },
  {
   "cell_type": "code",
   "execution_count": 57,
   "metadata": {},
   "outputs": [],
   "source": [
    "# YOUR CODE HERE"
   ]
  },
  {
   "cell_type": "code",
   "execution_count": 58,
   "metadata": {},
   "outputs": [],
   "source": [
    "# YOUR CODE HERE"
   ]
  },
  {
   "cell_type": "code",
   "execution_count": 59,
   "metadata": {},
   "outputs": [],
   "source": [
    "# YOUR CODE HERE"
   ]
  },
  {
   "cell_type": "code",
   "execution_count": 60,
   "metadata": {},
   "outputs": [],
   "source": [
    "# YOUR CODE HERE"
   ]
  },
  {
   "cell_type": "markdown",
   "metadata": {},
   "source": [
    "# 7. Apprentissage profond (deep learning)"
   ]
  },
  {
   "cell_type": "markdown",
   "metadata": {},
   "source": [
    "## Classification avec des réseaux de neurones\n",
    "\n",
    "Les réseaux de neurones peuvent être entraînés pour apprendre à la fois la représentation vectorielle des mots (au lieu de tf-idf) et comment classer les documents. Le code ci-dessous vous permet d'entraîner un classificateur de texte neuronal à l'aide de l'intégration de mots à l'aide de Keras. La plupart du code est écrit, il suffit de définir l'architecture du réseau avec les bons paramètres avant de l'entraîner:\n",
    "\n",
    "**<span style=\"color:red\">To do</span>**:\n",
    "\n",
    "> * Aller plus loin. Vérifiez [Text classification Keras examples](https://keras.io/examples/nlp/)\n",
    "\n",
    "> * Définissez un réseau de neurones dans la fonction `get_model()` avec les paramètres suivants:\n",
    "> * n'utiliser que les 20000 mots les plus fréquents dans les documents MAX_FEATURES\n",
    "> * utiliser 1024 comme nombre maximal de mots dans les articles MAX_TEXT_LENGTH\n",
    "> * utiliser une taille de 300 pour les embeddings EMBEDDING_SIZE: [word embeddings](https://keras.io/layers/embeddings/)\n",
    "> * utiliser d'autres valeurs pour les ngram_filters filtres convolutifs: [couche convolutive 1D](https://keras.io/layers/convolutional/#conv1d)\n",
    "> * Ajoutez une couche Dropout à l'endroit indiqué avec le valeur 0,2 [Dropout](https://keras.io/api/layers/regularization_layers/dropout/)\n",
    "> * Former le modèle.\n",
    "\n",
    "> * Comment ce réseau de neurones se compare-t-il aux autres modèles? \n",
    "> * Quelle est la performance?\n",
    "> * Qu'apporte le changement de paramètres dans la performance?\n",
    "> * Utilisez des plongements pré-entraînés et chargez-les en tant que poids dans ce modèle (au lieu de ceux générés aléatoirement)"
   ]
  },
  {
   "cell_type": "code",
   "execution_count": 61,
   "metadata": {},
   "outputs": [],
   "source": [
    "import ast\n",
    "import os\n",
    "from tensorflow.keras.layers import Dense, Embedding, Input\n",
    "from tensorflow.keras.layers import GRU, Dropout, MaxPooling1D, Conv1D, Flatten, GlobalMaxPooling1D\n",
    "from tensorflow.keras.models import Model\n",
    "import numpy as np\n",
    "import itertools\n",
    "from tensorflow.keras.utils import to_categorical\n",
    "from sklearn.metrics import (classification_report, \n",
    "                             precision_recall_fscore_support, \n",
    "                             accuracy_score)\n",
    "\n",
    "from tensorflow.keras.preprocessing import text, sequence\n",
    "from tensorflow.keras.layers import Concatenate\n",
    "\n",
    "import tensorflow as tf"
   ]
  },
  {
   "cell_type": "markdown",
   "metadata": {},
   "source": [
    "Configurez les paramètres du modèle."
   ]
  },
  {
   "cell_type": "code",
   "execution_count": 62,
   "metadata": {},
   "outputs": [],
   "source": [
    "MAX_FEATURES = 20000 # YOUR CODE HERE\n",
    "MAX_TEXT_LENGTH = 1024 # YOUR CODE HERE\n",
    "EMBEDDING_SIZE  = 300 # YOUR CODE HERE\n",
    "BATCH_SIZE = 16\n",
    "EPOCHS = 10\n",
    "VALIDATION_SPLIT = 0.1"
   ]
  },
  {
   "cell_type": "markdown",
   "metadata": {},
   "source": [
    "Cette methode transforme chaque texte des textes en une séquence d'entiers [Plus d'info](https://stackoverflow.com/questions/51956000/what-does-keras-tokenizer-method-exactly-do). Donc, il prend chaque mot dans le texte et le remplace par sa valeur entière correspondante du dictionnaire [word_index](https://www.tensorflow.org/api_docs/python/tf/keras/preprocessing/text/Tokenizer). Le dictionnaire a été obtenu à partir de [fit_on_texts](https://www.tensorflow.org/api_docs/python/tf/keras/preprocessing/text/Tokenizer).\n"
   ]
  },
  {
   "cell_type": "code",
   "execution_count": 63,
   "metadata": {},
   "outputs": [],
   "source": [
    "def get_train_test(train_raw_text, test_raw_text):\n",
    "    \n",
    "    tokenizer = text.Tokenizer(num_words=MAX_FEATURES)\n",
    "\n",
    "    tokenizer.fit_on_texts(list(train_raw_text))\n",
    "    \n",
    "    train_tokenized = tokenizer.texts_to_sequences(train_raw_text)\n",
    "    test_tokenized = tokenizer.texts_to_sequences(test_raw_text)\n",
    "    \n",
    "    return sequence.pad_sequences(train_tokenized, maxlen=MAX_TEXT_LENGTH), \\\n",
    "           sequence.pad_sequences(test_tokenized, maxlen=MAX_TEXT_LENGTH)"
   ]
  },
  {
   "cell_type": "code",
   "execution_count": 64,
   "metadata": {},
   "outputs": [
    {
     "name": "stdout",
     "output_type": "stream",
     "text": [
      "['Advertisement' 'Email' 'Form' 'Letter' 'Memo' 'News' 'Note' 'Report'\n",
      " 'Resume' 'Scientific'] 10\n"
     ]
    }
   ],
   "source": [
    "# Obtenez la liste des différentes classes\n",
    "\n",
    "CLASSES_LIST = np.unique(data['label'])\n",
    "n_out = len(CLASSES_LIST)\n",
    "\n",
    "print(CLASSES_LIST, n_out)"
   ]
  },
  {
   "cell_type": "code",
   "execution_count": 65,
   "metadata": {},
   "outputs": [],
   "source": [
    "def get_model():\n",
    "\n",
    "    inputs = Input(shape=(MAX_TEXT_LENGTH,))\n",
    "    model = Embedding(MAX_FEATURES, EMBEDDING_SIZE)(inputs)\n",
    "    # YOUR CODE HERE couche Dropout\n",
    "    model.add(Dense(0,2))\n",
    "    \n",
    "    ngram_filters = [2, 3, 4] # YOUR CODE HERE Modifier les valeurs n-gramme\n",
    "    filters = [300]*3\n",
    "\n",
    "    convs = []\n",
    "    for kernel_size, filter_length in zip(ngram_filters, filters):\n",
    "        conv = Conv1D(filters=filter_length,\n",
    "                      kernel_size=kernel_size,\n",
    "                      padding='same',\n",
    "                      activation='relu')(model)\n",
    "        convs.append(conv)\n",
    "\n",
    "    model = Concatenate()(convs)\n",
    "    model = GlobalMaxPooling1D()(model)    \n",
    "\n",
    "    outputs = Dense(n_out, activation=\"softmax\")(model)\n",
    "    model = Model(inputs=inputs, outputs=outputs)\n",
    "    \n",
    "    model.compile(loss='categorical_crossentropy', optimizer='adam', metrics=['accuracy'])\n",
    "    model.summary()\n",
    "    return model"
   ]
  },
  {
   "cell_type": "markdown",
   "metadata": {},
   "source": [
    "Cette méthode est pour entraîner et tester le modèle."
   ]
  },
  {
   "cell_type": "code",
   "execution_count": 66,
   "metadata": {},
   "outputs": [],
   "source": [
    "def train_fit_predict(model, X_train, X_test, y):\n",
    "    \n",
    "    model.fit(X_train, y,\n",
    "              batch_size=BATCH_SIZE,\n",
    "              epochs=EPOCHS, verbose=1,\n",
    "              validation_split=VALIDATION_SPLIT)\n",
    "\n",
    "    return model.predict(X_test)"
   ]
  },
  {
   "cell_type": "markdown",
   "metadata": {},
   "source": [
    "Pour que le modèle comprenne les étiquettes, elles doivent être sous forme entière. Ainsi, pour cela, il existe cette méthode: [LabelEncoder](https://scikit-learn.org/stable/modules/generated/sklearn.preprocessing.LabelEncoder.html)."
   ]
  },
  {
   "cell_type": "code",
   "execution_count": 67,
   "metadata": {},
   "outputs": [],
   "source": [
    "# Convertir la chaîne de classe en index (entiers)\n",
    "from sklearn import preprocessing\n",
    "label_en = preprocessing.LabelEncoder()\n",
    "le = label_en #CORRECTION\n",
    "le.fit(CLASSES_LIST)\n",
    "\n",
    "y_train_encoded = le.transform(y_train) \n",
    "y_test_encoded = le.transform(y_test) \n",
    "train_y_cat = to_categorical(y_train_encoded, n_out)"
   ]
  },
  {
   "cell_type": "code",
   "execution_count": 68,
   "metadata": {},
   "outputs": [
    {
     "data": {
      "text/plain": [
       "array([1, 2, 1, 3, 9])"
      ]
     },
     "execution_count": 68,
     "metadata": {},
     "output_type": "execute_result"
    }
   ],
   "source": [
    "y_train_encoded[:5]"
   ]
  },
  {
   "cell_type": "code",
   "execution_count": 69,
   "metadata": {},
   "outputs": [
    {
     "data": {
      "text/plain": [
       "array([[0., 1., 0., ..., 0., 0., 0.],\n",
       "       [0., 0., 1., ..., 0., 0., 0.],\n",
       "       [0., 1., 0., ..., 0., 0., 0.],\n",
       "       ...,\n",
       "       [0., 0., 0., ..., 0., 0., 0.],\n",
       "       [0., 0., 0., ..., 0., 0., 0.],\n",
       "       [0., 1., 0., ..., 0., 0., 0.]], dtype=float32)"
      ]
     },
     "execution_count": 69,
     "metadata": {},
     "output_type": "execute_result"
    }
   ],
   "source": [
    "train_y_cat"
   ]
  },
  {
   "cell_type": "code",
   "execution_count": 70,
   "metadata": {},
   "outputs": [
    {
     "data": {
      "text/plain": [
       "(622, 70)"
      ]
     },
     "execution_count": 70,
     "metadata": {},
     "output_type": "execute_result"
    }
   ],
   "source": [
    "# obtenir les données textuelles dans le format correct pour le réseau neuronal\n",
    "x_vec_train, x_vec_test = get_train_test(X_train, X_test)\n",
    "len(x_vec_train), len(x_vec_test)"
   ]
  },
  {
   "cell_type": "code",
   "execution_count": 71,
   "metadata": {},
   "outputs": [
    {
     "ename": "AttributeError",
     "evalue": "'Tensor' object has no attribute 'add'",
     "output_type": "error",
     "traceback": [
      "\u001b[0;31m---------------------------------------------------------------------------\u001b[0m",
      "\u001b[0;31mAttributeError\u001b[0m                            Traceback (most recent call last)",
      "\u001b[0;32m<ipython-input-71-36131939c9b9>\u001b[0m in \u001b[0;36m<module>\u001b[0;34m\u001b[0m\n\u001b[1;32m      1\u001b[0m \u001b[0;31m# définir la topologie du réseau neuronal\u001b[0m\u001b[0;34m\u001b[0m\u001b[0;34m\u001b[0m\u001b[0;34m\u001b[0m\u001b[0m\n\u001b[0;32m----> 2\u001b[0;31m \u001b[0mmodel\u001b[0m \u001b[0;34m=\u001b[0m \u001b[0mget_model\u001b[0m\u001b[0;34m(\u001b[0m\u001b[0;34m)\u001b[0m\u001b[0;34m\u001b[0m\u001b[0;34m\u001b[0m\u001b[0m\n\u001b[0m\u001b[1;32m      3\u001b[0m \u001b[0;34m\u001b[0m\u001b[0m\n\u001b[1;32m      4\u001b[0m \u001b[0;31m# Train and predict\u001b[0m\u001b[0;34m\u001b[0m\u001b[0;34m\u001b[0m\u001b[0;34m\u001b[0m\u001b[0m\n\u001b[1;32m      5\u001b[0m \u001b[0my_predicted\u001b[0m \u001b[0;34m=\u001b[0m \u001b[0mtrain_fit_predict\u001b[0m\u001b[0;34m(\u001b[0m\u001b[0mmodel\u001b[0m\u001b[0;34m,\u001b[0m \u001b[0mx_vec_train\u001b[0m\u001b[0;34m,\u001b[0m \u001b[0mx_vec_test\u001b[0m\u001b[0;34m,\u001b[0m \u001b[0mtrain_y_cat\u001b[0m\u001b[0;34m)\u001b[0m\u001b[0;34m.\u001b[0m\u001b[0margmax\u001b[0m\u001b[0;34m(\u001b[0m\u001b[0;36m1\u001b[0m\u001b[0;34m)\u001b[0m\u001b[0;34m\u001b[0m\u001b[0;34m\u001b[0m\u001b[0m\n",
      "\u001b[0;32m<ipython-input-65-296185ef97c4>\u001b[0m in \u001b[0;36mget_model\u001b[0;34m()\u001b[0m\n\u001b[1;32m      4\u001b[0m     \u001b[0mmodel\u001b[0m \u001b[0;34m=\u001b[0m \u001b[0mEmbedding\u001b[0m\u001b[0;34m(\u001b[0m\u001b[0mMAX_FEATURES\u001b[0m\u001b[0;34m,\u001b[0m \u001b[0mEMBEDDING_SIZE\u001b[0m\u001b[0;34m)\u001b[0m\u001b[0;34m(\u001b[0m\u001b[0minputs\u001b[0m\u001b[0;34m)\u001b[0m\u001b[0;34m\u001b[0m\u001b[0;34m\u001b[0m\u001b[0m\n\u001b[1;32m      5\u001b[0m     \u001b[0;31m# YOUR CODE HERE couche Dropout\u001b[0m\u001b[0;34m\u001b[0m\u001b[0;34m\u001b[0m\u001b[0;34m\u001b[0m\u001b[0m\n\u001b[0;32m----> 6\u001b[0;31m     \u001b[0mmodel\u001b[0m\u001b[0;34m.\u001b[0m\u001b[0madd\u001b[0m\u001b[0;34m(\u001b[0m\u001b[0mDense\u001b[0m\u001b[0;34m(\u001b[0m\u001b[0;36m0\u001b[0m\u001b[0;34m,\u001b[0m\u001b[0;36m2\u001b[0m\u001b[0;34m)\u001b[0m\u001b[0;34m)\u001b[0m\u001b[0;34m\u001b[0m\u001b[0;34m\u001b[0m\u001b[0m\n\u001b[0m\u001b[1;32m      7\u001b[0m \u001b[0;34m\u001b[0m\u001b[0m\n\u001b[1;32m      8\u001b[0m     \u001b[0mngram_filters\u001b[0m \u001b[0;34m=\u001b[0m \u001b[0;34m[\u001b[0m\u001b[0;36m2\u001b[0m\u001b[0;34m,\u001b[0m \u001b[0;36m3\u001b[0m\u001b[0;34m,\u001b[0m \u001b[0;36m4\u001b[0m\u001b[0;34m]\u001b[0m \u001b[0;31m# YOUR CODE HERE Modifier les valeurs n-gramme\u001b[0m\u001b[0;34m\u001b[0m\u001b[0;34m\u001b[0m\u001b[0m\n",
      "\u001b[0;31mAttributeError\u001b[0m: 'Tensor' object has no attribute 'add'"
     ]
    }
   ],
   "source": [
    "# définir la topologie du réseau neuronal\n",
    "model = get_model()\n",
    "\n",
    "# Train and predict\n",
    "y_predicted = train_fit_predict(model, x_vec_train, x_vec_test, train_y_cat).argmax(1)"
   ]
  },
  {
   "cell_type": "code",
   "execution_count": null,
   "metadata": {},
   "outputs": [],
   "source": [
    "print(classification_report(y_test_encoded, y_predicted, target_names=CLASSES_LIST))"
   ]
  },
  {
   "cell_type": "markdown",
   "metadata": {},
   "source": [
    "et voilà !"
   ]
  }
 ],
 "metadata": {
  "kernelspec": {
   "display_name": "Python 3",
   "language": "python",
   "name": "python3"
  },
  "language_info": {
   "codemirror_mode": {
    "name": "ipython",
    "version": 3
   },
   "file_extension": ".py",
   "mimetype": "text/x-python",
   "name": "python",
   "nbconvert_exporter": "python",
   "pygments_lexer": "ipython3",
   "version": "3.7.4"
  }
 },
 "nbformat": 4,
 "nbformat_minor": 2
}
